{
 "cells": [
  {
   "cell_type": "code",
   "execution_count": 1,
   "metadata": {},
   "outputs": [],
   "source": [
    "import numpy as np\n",
    "import pandas as pd"
   ]
  },
  {
   "cell_type": "code",
   "execution_count": 2,
   "metadata": {},
   "outputs": [],
   "source": [
    "hedge_fund = pd.read_csv('Return.csv',index_col=0)"
   ]
  },
  {
   "cell_type": "code",
   "execution_count": 3,
   "metadata": {},
   "outputs": [
    {
     "data": {
      "text/html": [
       "<div>\n",
       "<style scoped>\n",
       "    .dataframe tbody tr th:only-of-type {\n",
       "        vertical-align: middle;\n",
       "    }\n",
       "\n",
       "    .dataframe tbody tr th {\n",
       "        vertical-align: top;\n",
       "    }\n",
       "\n",
       "    .dataframe thead th {\n",
       "        text-align: right;\n",
       "    }\n",
       "</style>\n",
       "<table border=\"1\" class=\"dataframe\">\n",
       "  <thead>\n",
       "    <tr style=\"text-align: right;\">\n",
       "      <th></th>\n",
       "      <th>FOF</th>\n",
       "      <th>S&amp;P500</th>\n",
       "      <th>Pearl Brook</th>\n",
       "      <th>HFRI</th>\n",
       "      <th>1+Return(FOF)</th>\n",
       "      <th>1+Return(S&amp;P)</th>\n",
       "      <th>1+Return(Pearl Brook)</th>\n",
       "      <th>1+Return(HFRI)</th>\n",
       "      <th>FOF LLC</th>\n",
       "      <th>S&amp;P500.1</th>\n",
       "      <th>Pearl Brook.1</th>\n",
       "      <th>HFRI.1</th>\n",
       "    </tr>\n",
       "  </thead>\n",
       "  <tbody>\n",
       "    <tr>\n",
       "      <th>15-Apr</th>\n",
       "      <td>-0.12</td>\n",
       "      <td>0.96</td>\n",
       "      <td>1.14</td>\n",
       "      <td>1.82</td>\n",
       "      <td>99.88</td>\n",
       "      <td>100.96</td>\n",
       "      <td>101.14</td>\n",
       "      <td>101.82</td>\n",
       "      <td>998.80</td>\n",
       "      <td>1009.60</td>\n",
       "      <td>1011.40</td>\n",
       "      <td>1018.20</td>\n",
       "    </tr>\n",
       "    <tr>\n",
       "      <th>15-May</th>\n",
       "      <td>1.16</td>\n",
       "      <td>1.29</td>\n",
       "      <td>2.78</td>\n",
       "      <td>0.96</td>\n",
       "      <td>101.16</td>\n",
       "      <td>101.29</td>\n",
       "      <td>102.78</td>\n",
       "      <td>100.96</td>\n",
       "      <td>1010.42</td>\n",
       "      <td>1022.62</td>\n",
       "      <td>1039.52</td>\n",
       "      <td>1027.97</td>\n",
       "    </tr>\n",
       "    <tr>\n",
       "      <th>15-Jun</th>\n",
       "      <td>3.72</td>\n",
       "      <td>-1.94</td>\n",
       "      <td>-0.18</td>\n",
       "      <td>-0.93</td>\n",
       "      <td>103.72</td>\n",
       "      <td>98.06</td>\n",
       "      <td>99.82</td>\n",
       "      <td>99.07</td>\n",
       "      <td>1048.02</td>\n",
       "      <td>1002.78</td>\n",
       "      <td>1037.65</td>\n",
       "      <td>1018.41</td>\n",
       "    </tr>\n",
       "    <tr>\n",
       "      <th>15-Jul</th>\n",
       "      <td>1.97</td>\n",
       "      <td>2.10</td>\n",
       "      <td>3.01</td>\n",
       "      <td>-1.18</td>\n",
       "      <td>101.97</td>\n",
       "      <td>102.10</td>\n",
       "      <td>103.01</td>\n",
       "      <td>98.82</td>\n",
       "      <td>1068.65</td>\n",
       "      <td>1023.84</td>\n",
       "      <td>1068.88</td>\n",
       "      <td>1006.40</td>\n",
       "    </tr>\n",
       "    <tr>\n",
       "      <th>15-Aug</th>\n",
       "      <td>-0.48</td>\n",
       "      <td>-6.03</td>\n",
       "      <td>-1.22</td>\n",
       "      <td>-3.28</td>\n",
       "      <td>99.53</td>\n",
       "      <td>93.97</td>\n",
       "      <td>98.78</td>\n",
       "      <td>96.72</td>\n",
       "      <td>1063.58</td>\n",
       "      <td>962.11</td>\n",
       "      <td>1055.84</td>\n",
       "      <td>973.39</td>\n",
       "    </tr>\n",
       "  </tbody>\n",
       "</table>\n",
       "</div>"
      ],
      "text/plain": [
       "         FOF  S&P500  Pearl Brook  HFRI  1+Return(FOF)  1+Return(S&P)  \\\n",
       "15-Apr -0.12    0.96         1.14  1.82          99.88         100.96   \n",
       "15-May  1.16    1.29         2.78  0.96         101.16         101.29   \n",
       "15-Jun  3.72   -1.94        -0.18 -0.93         103.72          98.06   \n",
       "15-Jul  1.97    2.10         3.01 -1.18         101.97         102.10   \n",
       "15-Aug -0.48   -6.03        -1.22 -3.28          99.53          93.97   \n",
       "\n",
       "        1+Return(Pearl Brook)  1+Return(HFRI)  FOF LLC  S&P500.1  \\\n",
       "15-Apr                 101.14          101.82   998.80   1009.60   \n",
       "15-May                 102.78          100.96  1010.42   1022.62   \n",
       "15-Jun                  99.82           99.07  1048.02   1002.78   \n",
       "15-Jul                 103.01           98.82  1068.65   1023.84   \n",
       "15-Aug                  98.78           96.72  1063.58    962.11   \n",
       "\n",
       "        Pearl Brook.1   HFRI.1  \n",
       "15-Apr        1011.40  1018.20  \n",
       "15-May        1039.52  1027.97  \n",
       "15-Jun        1037.65  1018.41  \n",
       "15-Jul        1068.88  1006.40  \n",
       "15-Aug        1055.84   973.39  "
      ]
     },
     "execution_count": 3,
     "metadata": {},
     "output_type": "execute_result"
    }
   ],
   "source": [
    "hedge_fund.head()"
   ]
  },
  {
   "cell_type": "code",
   "execution_count": 4,
   "metadata": {},
   "outputs": [],
   "source": [
    "invest_1000 = hedge_fund.iloc[:,-4:]"
   ]
  },
  {
   "cell_type": "code",
   "execution_count": 5,
   "metadata": {},
   "outputs": [
    {
     "data": {
      "image/png": "[encoded data removed]",
      "text/plain": [
       "<Figure size 432x288 with 1 Axes>"
      ]
     },
     "metadata": {
      "needs_background": "light"
     },
     "output_type": "display_data"
    }
   ],
   "source": [
    "import matplotlib.pyplot as plt\n",
    "invest_1000.plot(kind=\"line\")\n",
    "plt.xlabel(\"Date\")\n",
    "plt.ylabel(\"$\")\n",
    "plt.title(\"Growth of $1,000 investment\")\n",
    "plt.show()"
   ]
  },
  {
   "cell_type": "code",
   "execution_count": 7,
   "metadata": {},
   "outputs": [
    {
     "name": "stdout",
     "output_type": "stream",
     "text": [
      "0.7622547056467763\n"
     ]
    }
   ],
   "source": [
    "# The holding period return is 76%\n",
    "HPR = hedge_fund['FOF LLC'][-1] / hedge_fund['FOF LLC'][0] - 1\n",
    "print(HPR)"
   ]
  },
  {
   "cell_type": "code",
   "execution_count": 8,
   "metadata": {},
   "outputs": [],
   "source": [
    "# We can also annualize the return\n",
    "\n",
    "# Calculate number of years\n",
    "t = len(hedge_fund['FOF LLC']) / 12"
   ]
  },
  {
   "cell_type": "code",
   "execution_count": 11,
   "metadata": {},
   "outputs": [
    {
     "data": {
      "text/plain": [
       "0.14261129455132604"
      ]
     },
     "execution_count": 11,
     "metadata": {},
     "output_type": "execute_result"
    }
   ],
   "source": [
    "CAGR = (1 + HPR) ** (1/t) - 1\n",
    "CAGR\n",
    "# The average return of FJ during this period is about 14% annually"
   ]
  },
  {
   "cell_type": "code",
   "execution_count": 17,
   "metadata": {},
   "outputs": [
    {
     "data": {
      "text/plain": [
       "0.6188406303447486"
      ]
     },
     "execution_count": 17,
     "metadata": {},
     "output_type": "execute_result"
    }
   ],
   "source": [
    "# Correlation between the FOF and the market\n",
    "np.corrcoef(hedge_fund['FOF'],hedge_fund['S&P500'])[0,1]"
   ]
  },
  {
   "cell_type": "code",
   "execution_count": 18,
   "metadata": {},
   "outputs": [
    {
     "name": "stdout",
     "output_type": "stream",
     "text": [
      "0.7301058154689146\n"
     ]
    }
   ],
   "source": [
    "# To calculate Beta \n",
    "beta = np.cov(hedge_fund['S&P500'], hedge_fund['FOF'], ddof=0)[0][1] / np.var(hedge_fund['S&P500'], ddof=0)\n",
    "print(beta)"
   ]
  },
  {
   "cell_type": "code",
   "execution_count": 23,
   "metadata": {},
   "outputs": [],
   "source": [
    "from random import randint\n",
    "walk = [0]\n",
    "for _ in range(200):\n",
    "    walk.append(randint(-1, 1)+walk[-1])"
   ]
  },
  {
   "cell_type": "code",
   "execution_count": 25,
   "metadata": {},
   "outputs": [
    {
     "data": {
      "text/plain": [
       "-7"
      ]
     },
     "execution_count": 25,
     "metadata": {},
     "output_type": "execute_result"
    }
   ],
   "source": [
    "walk[-1]"
   ]
  },
  {
   "cell_type": "code",
   "execution_count": null,
   "metadata": {},
   "outputs": [],
   "source": []
  }
 ],
 "metadata": {
  "kernelspec": {
   "display_name": "Python 3",
   "language": "python",
   "name": "python3"
  },
  "language_info": {
   "codemirror_mode": {
    "name": "ipython",
    "version": 3
   },
   "file_extension": ".py",
   "mimetype": "text/x-python",
   "name": "python",
   "nbconvert_exporter": "python",
   "pygments_lexer": "ipython3",
   "version": "3.8.5"
  }
 },
 "nbformat": 4,
 "nbformat_minor": 4
}
