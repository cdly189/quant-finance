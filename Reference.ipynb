{
 "cells": [
  {
   "cell_type": "code",
   "execution_count": 1,
   "metadata": {},
   "outputs": [],
   "source": [
    "import numpy as np\n",
    "import pandas as pd\n",
    "import matplotlib.pyplot as plt\n",
    "import yfinance as yf"
   ]
  },
  {
   "cell_type": "code",
   "execution_count": null,
   "metadata": {},
   "outputs": [],
   "source": []
  },
  {
   "cell_type": "code",
   "execution_count": 2,
   "metadata": {},
   "outputs": [],
   "source": [
    "df = pd.read_excel('IGE-org.xls')"
   ]
  },
  {
   "cell_type": "code",
   "execution_count": 3,
   "metadata": {},
   "outputs": [],
   "source": [
    "df.sort_values(by='Date',inplace=True)"
   ]
  },
  {
   "cell_type": "code",
   "execution_count": 4,
   "metadata": {},
   "outputs": [
    {
     "data": {
      "text/html": [
       "<div>\n",
       "<style scoped>\n",
       "    .dataframe tbody tr th:only-of-type {\n",
       "        vertical-align: middle;\n",
       "    }\n",
       "\n",
       "    .dataframe tbody tr th {\n",
       "        vertical-align: top;\n",
       "    }\n",
       "\n",
       "    .dataframe thead th {\n",
       "        text-align: right;\n",
       "    }\n",
       "</style>\n",
       "<table border=\"1\" class=\"dataframe\">\n",
       "  <thead>\n",
       "    <tr style=\"text-align: right;\">\n",
       "      <th></th>\n",
       "      <th>Date</th>\n",
       "      <th>Open</th>\n",
       "      <th>High</th>\n",
       "      <th>Low</th>\n",
       "      <th>Close</th>\n",
       "      <th>Volume</th>\n",
       "      <th>Adj Close</th>\n",
       "    </tr>\n",
       "  </thead>\n",
       "  <tbody>\n",
       "    <tr>\n",
       "      <th>0</th>\n",
       "      <td>2001-11-26</td>\n",
       "      <td>91.01</td>\n",
       "      <td>91.01</td>\n",
       "      <td>91.01</td>\n",
       "      <td>91.01</td>\n",
       "      <td>0</td>\n",
       "      <td>42.09</td>\n",
       "    </tr>\n",
       "    <tr>\n",
       "      <th>1</th>\n",
       "      <td>2001-11-27</td>\n",
       "      <td>91.01</td>\n",
       "      <td>91.01</td>\n",
       "      <td>91.01</td>\n",
       "      <td>91.01</td>\n",
       "      <td>0</td>\n",
       "      <td>42.09</td>\n",
       "    </tr>\n",
       "    <tr>\n",
       "      <th>2</th>\n",
       "      <td>2001-11-28</td>\n",
       "      <td>91.01</td>\n",
       "      <td>91.01</td>\n",
       "      <td>91.01</td>\n",
       "      <td>91.01</td>\n",
       "      <td>0</td>\n",
       "      <td>42.09</td>\n",
       "    </tr>\n",
       "    <tr>\n",
       "      <th>3</th>\n",
       "      <td>2001-11-29</td>\n",
       "      <td>91.01</td>\n",
       "      <td>91.01</td>\n",
       "      <td>91.01</td>\n",
       "      <td>91.01</td>\n",
       "      <td>0</td>\n",
       "      <td>42.09</td>\n",
       "    </tr>\n",
       "    <tr>\n",
       "      <th>4</th>\n",
       "      <td>2001-11-30</td>\n",
       "      <td>91.32</td>\n",
       "      <td>91.32</td>\n",
       "      <td>91.32</td>\n",
       "      <td>91.32</td>\n",
       "      <td>200</td>\n",
       "      <td>42.23</td>\n",
       "    </tr>\n",
       "  </tbody>\n",
       "</table>\n",
       "</div>"
      ],
      "text/plain": [
       "        Date   Open   High    Low  Close  Volume  Adj Close\n",
       "0 2001-11-26  91.01  91.01  91.01  91.01       0      42.09\n",
       "1 2001-11-27  91.01  91.01  91.01  91.01       0      42.09\n",
       "2 2001-11-28  91.01  91.01  91.01  91.01       0      42.09\n",
       "3 2001-11-29  91.01  91.01  91.01  91.01       0      42.09\n",
       "4 2001-11-30  91.32  91.32  91.32  91.32     200      42.23"
      ]
     },
     "execution_count": 4,
     "metadata": {},
     "output_type": "execute_result"
    }
   ],
   "source": [
    "df.head()"
   ]
  },
  {
   "cell_type": "code",
   "execution_count": 5,
   "metadata": {},
   "outputs": [],
   "source": [
    "dailyret = df.loc[:,'Adj Close'].pct_change()"
   ]
  },
  {
   "cell_type": "code",
   "execution_count": 6,
   "metadata": {},
   "outputs": [
    {
     "data": {
      "text/plain": [
       "0            NaN\n",
       "1       0.000000\n",
       "2       0.000000\n",
       "3       0.000000\n",
       "4       0.003326\n",
       "          ...   \n",
       "1499    0.006491\n",
       "1500   -0.017546\n",
       "1501   -0.046863\n",
       "1502    0.019379\n",
       "1503    0.002671\n",
       "Name: Adj Close, Length: 1504, dtype: float64"
      ]
     },
     "execution_count": 6,
     "metadata": {},
     "output_type": "execute_result"
    }
   ],
   "source": [
    "dailyret"
   ]
  },
  {
   "cell_type": "code",
   "execution_count": 7,
   "metadata": {},
   "outputs": [],
   "source": [
    "excessRet = dailyret - 0.04/252"
   ]
  },
  {
   "cell_type": "code",
   "execution_count": 8,
   "metadata": {},
   "outputs": [
    {
     "data": {
      "text/plain": [
       "0            NaN\n",
       "1      -0.000159\n",
       "2      -0.000159\n",
       "3      -0.000159\n",
       "4       0.003167\n",
       "          ...   \n",
       "1499    0.006332\n",
       "1500   -0.017705\n",
       "1501   -0.047022\n",
       "1502    0.019220\n",
       "1503    0.002512\n",
       "Name: Adj Close, Length: 1504, dtype: float64"
      ]
     },
     "execution_count": 8,
     "metadata": {},
     "output_type": "execute_result"
    }
   ],
   "source": [
    "excessRet"
   ]
  },
  {
   "cell_type": "code",
   "execution_count": 9,
   "metadata": {},
   "outputs": [],
   "source": [
    "sharpeRatio = np.sqrt(252)*np.mean(excessRet) / np.std(excessRet)"
   ]
  },
  {
   "cell_type": "code",
   "execution_count": 10,
   "metadata": {},
   "outputs": [
    {
     "data": {
      "text/plain": [
       "0.789580250130583"
      ]
     },
     "execution_count": 10,
     "metadata": {},
     "output_type": "execute_result"
    }
   ],
   "source": [
    "sharpeRatio"
   ]
  },
  {
   "cell_type": "markdown",
   "metadata": {},
   "source": [
    "### LOng Market Neutral"
   ]
  },
  {
   "cell_type": "code",
   "execution_count": 11,
   "metadata": {},
   "outputs": [],
   "source": [
    "df2 = pd.read_excel(\"SPY.xls\")"
   ]
  },
  {
   "cell_type": "code",
   "execution_count": 12,
   "metadata": {},
   "outputs": [
    {
     "data": {
      "text/html": [
       "<div>\n",
       "<style scoped>\n",
       "    .dataframe tbody tr th:only-of-type {\n",
       "        vertical-align: middle;\n",
       "    }\n",
       "\n",
       "    .dataframe tbody tr th {\n",
       "        vertical-align: top;\n",
       "    }\n",
       "\n",
       "    .dataframe thead th {\n",
       "        text-align: right;\n",
       "    }\n",
       "</style>\n",
       "<table border=\"1\" class=\"dataframe\">\n",
       "  <thead>\n",
       "    <tr style=\"text-align: right;\">\n",
       "      <th></th>\n",
       "      <th>Date</th>\n",
       "      <th>Open</th>\n",
       "      <th>High</th>\n",
       "      <th>Low</th>\n",
       "      <th>Close</th>\n",
       "      <th>Volume</th>\n",
       "      <th>Adj Close</th>\n",
       "    </tr>\n",
       "  </thead>\n",
       "  <tbody>\n",
       "    <tr>\n",
       "      <th>0</th>\n",
       "      <td>2001-11-26</td>\n",
       "      <td>115.75</td>\n",
       "      <td>116.34</td>\n",
       "      <td>115.07</td>\n",
       "      <td>115.93</td>\n",
       "      <td>13726000</td>\n",
       "      <td>105.52</td>\n",
       "    </tr>\n",
       "    <tr>\n",
       "      <th>1</th>\n",
       "      <td>2001-11-27</td>\n",
       "      <td>115.62</td>\n",
       "      <td>116.90</td>\n",
       "      <td>114.09</td>\n",
       "      <td>115.43</td>\n",
       "      <td>19261400</td>\n",
       "      <td>105.06</td>\n",
       "    </tr>\n",
       "    <tr>\n",
       "      <th>2</th>\n",
       "      <td>2001-11-28</td>\n",
       "      <td>114.74</td>\n",
       "      <td>115.17</td>\n",
       "      <td>113.25</td>\n",
       "      <td>113.34</td>\n",
       "      <td>20195500</td>\n",
       "      <td>103.16</td>\n",
       "    </tr>\n",
       "    <tr>\n",
       "      <th>3</th>\n",
       "      <td>2001-11-29</td>\n",
       "      <td>113.66</td>\n",
       "      <td>114.92</td>\n",
       "      <td>113.00</td>\n",
       "      <td>114.87</td>\n",
       "      <td>16354700</td>\n",
       "      <td>104.55</td>\n",
       "    </tr>\n",
       "    <tr>\n",
       "      <th>4</th>\n",
       "      <td>2001-11-30</td>\n",
       "      <td>114.40</td>\n",
       "      <td>114.91</td>\n",
       "      <td>114.02</td>\n",
       "      <td>114.05</td>\n",
       "      <td>13680300</td>\n",
       "      <td>103.81</td>\n",
       "    </tr>\n",
       "  </tbody>\n",
       "</table>\n",
       "</div>"
      ],
      "text/plain": [
       "        Date    Open    High     Low   Close    Volume  Adj Close\n",
       "0 2001-11-26  115.75  116.34  115.07  115.93  13726000     105.52\n",
       "1 2001-11-27  115.62  116.90  114.09  115.43  19261400     105.06\n",
       "2 2001-11-28  114.74  115.17  113.25  113.34  20195500     103.16\n",
       "3 2001-11-29  113.66  114.92  113.00  114.87  16354700     104.55\n",
       "4 2001-11-30  114.40  114.91  114.02  114.05  13680300     103.81"
      ]
     },
     "execution_count": 12,
     "metadata": {},
     "output_type": "execute_result"
    }
   ],
   "source": [
    "df2.head()"
   ]
  },
  {
   "cell_type": "code",
   "execution_count": 13,
   "metadata": {},
   "outputs": [],
   "source": [
    "df=pd.merge(df, df2, on='Date', suffixes=('_IGE', '_SPY'))"
   ]
  },
  {
   "cell_type": "code",
   "execution_count": 14,
   "metadata": {},
   "outputs": [
    {
     "data": {
      "text/html": [
       "<div>\n",
       "<style scoped>\n",
       "    .dataframe tbody tr th:only-of-type {\n",
       "        vertical-align: middle;\n",
       "    }\n",
       "\n",
       "    .dataframe tbody tr th {\n",
       "        vertical-align: top;\n",
       "    }\n",
       "\n",
       "    .dataframe thead th {\n",
       "        text-align: right;\n",
       "    }\n",
       "</style>\n",
       "<table border=\"1\" class=\"dataframe\">\n",
       "  <thead>\n",
       "    <tr style=\"text-align: right;\">\n",
       "      <th></th>\n",
       "      <th>Date</th>\n",
       "      <th>Open_IGE</th>\n",
       "      <th>High_IGE</th>\n",
       "      <th>Low_IGE</th>\n",
       "      <th>Close_IGE</th>\n",
       "      <th>Volume_IGE</th>\n",
       "      <th>Adj Close_IGE</th>\n",
       "      <th>Open_SPY</th>\n",
       "      <th>High_SPY</th>\n",
       "      <th>Low_SPY</th>\n",
       "      <th>Close_SPY</th>\n",
       "      <th>Volume_SPY</th>\n",
       "      <th>Adj Close_SPY</th>\n",
       "    </tr>\n",
       "  </thead>\n",
       "  <tbody>\n",
       "    <tr>\n",
       "      <th>0</th>\n",
       "      <td>2001-11-26</td>\n",
       "      <td>91.01</td>\n",
       "      <td>91.01</td>\n",
       "      <td>91.01</td>\n",
       "      <td>91.01</td>\n",
       "      <td>0</td>\n",
       "      <td>42.09</td>\n",
       "      <td>115.75</td>\n",
       "      <td>116.34</td>\n",
       "      <td>115.07</td>\n",
       "      <td>115.93</td>\n",
       "      <td>13726000</td>\n",
       "      <td>105.52</td>\n",
       "    </tr>\n",
       "    <tr>\n",
       "      <th>1</th>\n",
       "      <td>2001-11-27</td>\n",
       "      <td>91.01</td>\n",
       "      <td>91.01</td>\n",
       "      <td>91.01</td>\n",
       "      <td>91.01</td>\n",
       "      <td>0</td>\n",
       "      <td>42.09</td>\n",
       "      <td>115.62</td>\n",
       "      <td>116.90</td>\n",
       "      <td>114.09</td>\n",
       "      <td>115.43</td>\n",
       "      <td>19261400</td>\n",
       "      <td>105.06</td>\n",
       "    </tr>\n",
       "    <tr>\n",
       "      <th>2</th>\n",
       "      <td>2001-11-28</td>\n",
       "      <td>91.01</td>\n",
       "      <td>91.01</td>\n",
       "      <td>91.01</td>\n",
       "      <td>91.01</td>\n",
       "      <td>0</td>\n",
       "      <td>42.09</td>\n",
       "      <td>114.74</td>\n",
       "      <td>115.17</td>\n",
       "      <td>113.25</td>\n",
       "      <td>113.34</td>\n",
       "      <td>20195500</td>\n",
       "      <td>103.16</td>\n",
       "    </tr>\n",
       "    <tr>\n",
       "      <th>3</th>\n",
       "      <td>2001-11-29</td>\n",
       "      <td>91.01</td>\n",
       "      <td>91.01</td>\n",
       "      <td>91.01</td>\n",
       "      <td>91.01</td>\n",
       "      <td>0</td>\n",
       "      <td>42.09</td>\n",
       "      <td>113.66</td>\n",
       "      <td>114.92</td>\n",
       "      <td>113.00</td>\n",
       "      <td>114.87</td>\n",
       "      <td>16354700</td>\n",
       "      <td>104.55</td>\n",
       "    </tr>\n",
       "    <tr>\n",
       "      <th>4</th>\n",
       "      <td>2001-11-30</td>\n",
       "      <td>91.32</td>\n",
       "      <td>91.32</td>\n",
       "      <td>91.32</td>\n",
       "      <td>91.32</td>\n",
       "      <td>200</td>\n",
       "      <td>42.23</td>\n",
       "      <td>114.40</td>\n",
       "      <td>114.91</td>\n",
       "      <td>114.02</td>\n",
       "      <td>114.05</td>\n",
       "      <td>13680300</td>\n",
       "      <td>103.81</td>\n",
       "    </tr>\n",
       "  </tbody>\n",
       "</table>\n",
       "</div>"
      ],
      "text/plain": [
       "        Date  Open_IGE  High_IGE  Low_IGE  Close_IGE  Volume_IGE  \\\n",
       "0 2001-11-26     91.01     91.01    91.01      91.01           0   \n",
       "1 2001-11-27     91.01     91.01    91.01      91.01           0   \n",
       "2 2001-11-28     91.01     91.01    91.01      91.01           0   \n",
       "3 2001-11-29     91.01     91.01    91.01      91.01           0   \n",
       "4 2001-11-30     91.32     91.32    91.32      91.32         200   \n",
       "\n",
       "   Adj Close_IGE  Open_SPY  High_SPY  Low_SPY  Close_SPY  Volume_SPY  \\\n",
       "0          42.09    115.75    116.34   115.07     115.93    13726000   \n",
       "1          42.09    115.62    116.90   114.09     115.43    19261400   \n",
       "2          42.09    114.74    115.17   113.25     113.34    20195500   \n",
       "3          42.09    113.66    114.92   113.00     114.87    16354700   \n",
       "4          42.23    114.40    114.91   114.02     114.05    13680300   \n",
       "\n",
       "   Adj Close_SPY  \n",
       "0         105.52  \n",
       "1         105.06  \n",
       "2         103.16  \n",
       "3         104.55  \n",
       "4         103.81  "
      ]
     },
     "execution_count": 14,
     "metadata": {},
     "output_type": "execute_result"
    }
   ],
   "source": [
    "df.head()"
   ]
  },
  {
   "cell_type": "code",
   "execution_count": 19,
   "metadata": {},
   "outputs": [],
   "source": [
    "df.set_index('Date', inplace=True)"
   ]
  },
  {
   "cell_type": "code",
   "execution_count": 20,
   "metadata": {},
   "outputs": [],
   "source": [
    "dailyret=df[['Adj Close_IGE', 'Adj Close_SPY']].pct_change()"
   ]
  },
  {
   "cell_type": "code",
   "execution_count": 21,
   "metadata": {},
   "outputs": [],
   "source": [
    "dailyret.rename(columns={\"Adj Close_IGE\": \"IGE\", \"Adj Close_SPY\": \"SPY\"}, inplace=True)"
   ]
  },
  {
   "cell_type": "code",
   "execution_count": 22,
   "metadata": {},
   "outputs": [
    {
     "data": {
      "text/html": [
       "<div>\n",
       "<style scoped>\n",
       "    .dataframe tbody tr th:only-of-type {\n",
       "        vertical-align: middle;\n",
       "    }\n",
       "\n",
       "    .dataframe tbody tr th {\n",
       "        vertical-align: top;\n",
       "    }\n",
       "\n",
       "    .dataframe thead th {\n",
       "        text-align: right;\n",
       "    }\n",
       "</style>\n",
       "<table border=\"1\" class=\"dataframe\">\n",
       "  <thead>\n",
       "    <tr style=\"text-align: right;\">\n",
       "      <th></th>\n",
       "      <th>IGE</th>\n",
       "      <th>SPY</th>\n",
       "    </tr>\n",
       "    <tr>\n",
       "      <th>Date</th>\n",
       "      <th></th>\n",
       "      <th></th>\n",
       "    </tr>\n",
       "  </thead>\n",
       "  <tbody>\n",
       "    <tr>\n",
       "      <th>2001-11-26</th>\n",
       "      <td>NaN</td>\n",
       "      <td>NaN</td>\n",
       "    </tr>\n",
       "    <tr>\n",
       "      <th>2001-11-27</th>\n",
       "      <td>0.000000</td>\n",
       "      <td>-0.004359</td>\n",
       "    </tr>\n",
       "    <tr>\n",
       "      <th>2001-11-28</th>\n",
       "      <td>0.000000</td>\n",
       "      <td>-0.018085</td>\n",
       "    </tr>\n",
       "    <tr>\n",
       "      <th>2001-11-29</th>\n",
       "      <td>0.000000</td>\n",
       "      <td>0.013474</td>\n",
       "    </tr>\n",
       "    <tr>\n",
       "      <th>2001-11-30</th>\n",
       "      <td>0.003326</td>\n",
       "      <td>-0.007078</td>\n",
       "    </tr>\n",
       "    <tr>\n",
       "      <th>...</th>\n",
       "      <td>...</td>\n",
       "      <td>...</td>\n",
       "    </tr>\n",
       "    <tr>\n",
       "      <th>2007-11-08</th>\n",
       "      <td>0.006491</td>\n",
       "      <td>-0.005071</td>\n",
       "    </tr>\n",
       "    <tr>\n",
       "      <th>2007-11-09</th>\n",
       "      <td>-0.017546</td>\n",
       "      <td>-0.013727</td>\n",
       "    </tr>\n",
       "    <tr>\n",
       "      <th>2007-11-12</th>\n",
       "      <td>-0.046863</td>\n",
       "      <td>-0.009921</td>\n",
       "    </tr>\n",
       "    <tr>\n",
       "      <th>2007-11-13</th>\n",
       "      <td>0.019379</td>\n",
       "      <td>0.030480</td>\n",
       "    </tr>\n",
       "    <tr>\n",
       "      <th>2007-11-14</th>\n",
       "      <td>0.002671</td>\n",
       "      <td>-0.002769</td>\n",
       "    </tr>\n",
       "  </tbody>\n",
       "</table>\n",
       "<p>1504 rows × 2 columns</p>\n",
       "</div>"
      ],
      "text/plain": [
       "                 IGE       SPY\n",
       "Date                          \n",
       "2001-11-26       NaN       NaN\n",
       "2001-11-27  0.000000 -0.004359\n",
       "2001-11-28  0.000000 -0.018085\n",
       "2001-11-29  0.000000  0.013474\n",
       "2001-11-30  0.003326 -0.007078\n",
       "...              ...       ...\n",
       "2007-11-08  0.006491 -0.005071\n",
       "2007-11-09 -0.017546 -0.013727\n",
       "2007-11-12 -0.046863 -0.009921\n",
       "2007-11-13  0.019379  0.030480\n",
       "2007-11-14  0.002671 -0.002769\n",
       "\n",
       "[1504 rows x 2 columns]"
      ]
     },
     "execution_count": 22,
     "metadata": {},
     "output_type": "execute_result"
    }
   ],
   "source": [
    "dailyret"
   ]
  },
  {
   "cell_type": "code",
   "execution_count": 23,
   "metadata": {},
   "outputs": [],
   "source": [
    "netRet=(dailyret['IGE']-dailyret['SPY'])/2"
   ]
  },
  {
   "cell_type": "code",
   "execution_count": 24,
   "metadata": {},
   "outputs": [
    {
     "data": {
      "text/plain": [
       "Date\n",
       "2001-11-26         NaN\n",
       "2001-11-27    0.002180\n",
       "2001-11-28    0.009042\n",
       "2001-11-29   -0.006737\n",
       "2001-11-30    0.005202\n",
       "                ...   \n",
       "2007-11-08    0.005781\n",
       "2007-11-09   -0.001910\n",
       "2007-11-12   -0.018471\n",
       "2007-11-13   -0.005551\n",
       "2007-11-14    0.002720\n",
       "Length: 1504, dtype: float64"
      ]
     },
     "execution_count": 24,
     "metadata": {},
     "output_type": "execute_result"
    }
   ],
   "source": [
    "netRet"
   ]
  },
  {
   "cell_type": "code",
   "execution_count": 26,
   "metadata": {},
   "outputs": [
    {
     "data": {
      "text/plain": [
       "0.7839419359681374"
      ]
     },
     "execution_count": 26,
     "metadata": {},
     "output_type": "execute_result"
    }
   ],
   "source": [
    "sharpeRatio=np.sqrt(252)*np.mean(netRet)/np.std(netRet) \n",
    "sharpeRatio"
   ]
  },
  {
   "cell_type": "code",
   "execution_count": 29,
   "metadata": {},
   "outputs": [],
   "source": [
    "def calculateMaxDD(cumret):\n",
    "# ====================================================== # calculation of maximum drawdown and maximum drawdown duration based on\n",
    "# cumulative COMPOUNDED returns. cumret must be a com- pounded cumulative return.\n",
    "# i is the index of the day with maxDD.\n",
    "# ======================================================\n",
    "    highwatermark=np.zeros(cumret.shape) \n",
    "    drawdown=np.zeros(cumret.shape) \n",
    "    drawdownduration=np.zeros(cumret.shape) \n",
    "    for t in np.arange(1, cumret.shape[0]):\n",
    "        highwatermark[t]=np.maximum(highwatermark[t-1], cumret[t])\n",
    "        drawdown[t]=(1+cumret[t])/(1+highwatermark[t])-1 \n",
    "        if drawdown[t]==0:\n",
    "            drawdownduration[t]=0 \n",
    "        else:\n",
    "            drawdownduration[t]=drawdownduration[t-1]+1\n",
    "    maxDD, i=np.min(drawdown), np.argmin(drawdown)\n",
    "    maxDDD=np.max(drawdownduration)\n",
    "    return maxDD, maxDDD, i"
   ]
  },
  {
   "cell_type": "code",
   "execution_count": 30,
   "metadata": {},
   "outputs": [
    {
     "data": {
      "text/plain": [
       "[<matplotlib.lines.Line2D at 0x7fd4bd8f99a0>]"
      ]
     },
     "execution_count": 30,
     "metadata": {},
     "output_type": "execute_result"
    },
    {
     "data": {
      "image/png": "[encoded data removed]",
      "text/plain": [
       "<Figure size 432x288 with 1 Axes>"
      ]
     },
     "metadata": {
      "needs_background": "light"
     },
     "output_type": "display_data"
    }
   ],
   "source": [
    "cumret=np.cumprod(1+netRet)-1\n",
    "plt.plot(cumret)"
   ]
  },
  {
   "cell_type": "code",
   "execution_count": 31,
   "metadata": {},
   "outputs": [],
   "source": [
    "maxDrawdown, maxDrawdownDuration, startDrawdownDay=calculateMaxDD(cumret.values)"
   ]
  },
  {
   "cell_type": "code",
   "execution_count": 32,
   "metadata": {},
   "outputs": [
    {
     "data": {
      "text/plain": [
       "-0.09529268047208683"
      ]
     },
     "execution_count": 32,
     "metadata": {},
     "output_type": "execute_result"
    }
   ],
   "source": [
    "maxDrawdown"
   ]
  },
  {
   "cell_type": "code",
   "execution_count": 33,
   "metadata": {},
   "outputs": [
    {
     "data": {
      "text/plain": [
       "497.0"
      ]
     },
     "execution_count": 33,
     "metadata": {},
     "output_type": "execute_result"
    }
   ],
   "source": [
    "maxDrawdownDuration"
   ]
  },
  {
   "cell_type": "code",
   "execution_count": 34,
   "metadata": {},
   "outputs": [
    {
     "data": {
      "text/plain": [
       "1223"
      ]
     },
     "execution_count": 34,
     "metadata": {},
     "output_type": "execute_result"
    }
   ],
   "source": [
    "startDrawdownDay"
   ]
  },
  {
   "cell_type": "markdown",
   "metadata": {},
   "source": [
    "### Example 3.6"
   ]
  },
  {
   "cell_type": "code",
   "execution_count": 39,
   "metadata": {},
   "outputs": [],
   "source": [
    "# GLD versus GDX is a good candidate for pair trading because GLD reflects the spot price of gold, \n",
    "# and GDX is a basket of gold-mining stocks.\n",
    "#  the spread formed by long GLD and short GDX is mean reverting\n",
    "# determine the hedge ratio between GLD and GDX\n",
    "# define entry and exit thresholds for a pair-trading strategy."
   ]
  },
  {
   "cell_type": "code",
   "execution_count": 40,
   "metadata": {},
   "outputs": [],
   "source": [
    "import numpy as np\n",
    "import pandas as pd\n",
    "import matplotlib.pyplot as plt\n",
    "import statsmodels.api as sm \n",
    "df1=pd.read_excel('GLD.xls') \n",
    "df2=pd.read_excel('GDX.xls')"
   ]
  },
  {
   "cell_type": "code",
   "execution_count": 43,
   "metadata": {},
   "outputs": [],
   "source": [
    "df=pd.merge(df1, df2, on='Date', suffixes=('_GLD', '_GDX'))"
   ]
  },
  {
   "cell_type": "code",
   "execution_count": 44,
   "metadata": {},
   "outputs": [
    {
     "data": {
      "text/html": [
       "<div>\n",
       "<style scoped>\n",
       "    .dataframe tbody tr th:only-of-type {\n",
       "        vertical-align: middle;\n",
       "    }\n",
       "\n",
       "    .dataframe tbody tr th {\n",
       "        vertical-align: top;\n",
       "    }\n",
       "\n",
       "    .dataframe thead th {\n",
       "        text-align: right;\n",
       "    }\n",
       "</style>\n",
       "<table border=\"1\" class=\"dataframe\">\n",
       "  <thead>\n",
       "    <tr style=\"text-align: right;\">\n",
       "      <th></th>\n",
       "      <th>Date</th>\n",
       "      <th>Open_GLD</th>\n",
       "      <th>High_GLD</th>\n",
       "      <th>Low_GLD</th>\n",
       "      <th>Close_GLD</th>\n",
       "      <th>Volume_GLD</th>\n",
       "      <th>Adj Close_GLD</th>\n",
       "      <th>Open_GDX</th>\n",
       "      <th>High_GDX</th>\n",
       "      <th>Low_GDX</th>\n",
       "      <th>Close_GDX</th>\n",
       "      <th>Volume_GDX</th>\n",
       "      <th>Adj Close_GDX</th>\n",
       "    </tr>\n",
       "  </thead>\n",
       "  <tbody>\n",
       "    <tr>\n",
       "      <th>0</th>\n",
       "      <td>2007-11-30</td>\n",
       "      <td>78.35</td>\n",
       "      <td>78.60</td>\n",
       "      <td>76.98</td>\n",
       "      <td>77.32</td>\n",
       "      <td>9509100</td>\n",
       "      <td>77.32</td>\n",
       "      <td>47.09</td>\n",
       "      <td>47.50</td>\n",
       "      <td>45.70</td>\n",
       "      <td>46.36</td>\n",
       "      <td>2006000</td>\n",
       "      <td>46.36</td>\n",
       "    </tr>\n",
       "    <tr>\n",
       "      <th>1</th>\n",
       "      <td>2007-11-29</td>\n",
       "      <td>79.28</td>\n",
       "      <td>79.33</td>\n",
       "      <td>78.28</td>\n",
       "      <td>78.28</td>\n",
       "      <td>9306700</td>\n",
       "      <td>78.28</td>\n",
       "      <td>47.10</td>\n",
       "      <td>48.00</td>\n",
       "      <td>46.76</td>\n",
       "      <td>47.02</td>\n",
       "      <td>1668500</td>\n",
       "      <td>47.02</td>\n",
       "    </tr>\n",
       "    <tr>\n",
       "      <th>2</th>\n",
       "      <td>2007-11-28</td>\n",
       "      <td>79.42</td>\n",
       "      <td>79.87</td>\n",
       "      <td>78.76</td>\n",
       "      <td>79.57</td>\n",
       "      <td>9706700</td>\n",
       "      <td>79.57</td>\n",
       "      <td>46.11</td>\n",
       "      <td>48.00</td>\n",
       "      <td>46.06</td>\n",
       "      <td>47.86</td>\n",
       "      <td>3893200</td>\n",
       "      <td>47.86</td>\n",
       "    </tr>\n",
       "    <tr>\n",
       "      <th>3</th>\n",
       "      <td>2007-11-27</td>\n",
       "      <td>80.70</td>\n",
       "      <td>80.89</td>\n",
       "      <td>79.81</td>\n",
       "      <td>80.10</td>\n",
       "      <td>7229900</td>\n",
       "      <td>80.10</td>\n",
       "      <td>46.84</td>\n",
       "      <td>46.84</td>\n",
       "      <td>45.74</td>\n",
       "      <td>46.61</td>\n",
       "      <td>2329700</td>\n",
       "      <td>46.61</td>\n",
       "    </tr>\n",
       "    <tr>\n",
       "      <th>4</th>\n",
       "      <td>2007-11-26</td>\n",
       "      <td>82.25</td>\n",
       "      <td>82.25</td>\n",
       "      <td>81.13</td>\n",
       "      <td>81.30</td>\n",
       "      <td>7440200</td>\n",
       "      <td>81.30</td>\n",
       "      <td>49.43</td>\n",
       "      <td>49.43</td>\n",
       "      <td>46.85</td>\n",
       "      <td>47.06</td>\n",
       "      <td>1966500</td>\n",
       "      <td>47.06</td>\n",
       "    </tr>\n",
       "  </tbody>\n",
       "</table>\n",
       "</div>"
      ],
      "text/plain": [
       "        Date  Open_GLD  High_GLD  Low_GLD  Close_GLD  Volume_GLD  \\\n",
       "0 2007-11-30     78.35     78.60    76.98      77.32     9509100   \n",
       "1 2007-11-29     79.28     79.33    78.28      78.28     9306700   \n",
       "2 2007-11-28     79.42     79.87    78.76      79.57     9706700   \n",
       "3 2007-11-27     80.70     80.89    79.81      80.10     7229900   \n",
       "4 2007-11-26     82.25     82.25    81.13      81.30     7440200   \n",
       "\n",
       "   Adj Close_GLD  Open_GDX  High_GDX  Low_GDX  Close_GDX  Volume_GDX  \\\n",
       "0          77.32     47.09     47.50    45.70      46.36     2006000   \n",
       "1          78.28     47.10     48.00    46.76      47.02     1668500   \n",
       "2          79.57     46.11     48.00    46.06      47.86     3893200   \n",
       "3          80.10     46.84     46.84    45.74      46.61     2329700   \n",
       "4          81.30     49.43     49.43    46.85      47.06     1966500   \n",
       "\n",
       "   Adj Close_GDX  \n",
       "0          46.36  \n",
       "1          47.02  \n",
       "2          47.86  \n",
       "3          46.61  \n",
       "4          47.06  "
      ]
     },
     "execution_count": 44,
     "metadata": {},
     "output_type": "execute_result"
    }
   ],
   "source": [
    "df.head()"
   ]
  },
  {
   "cell_type": "code",
   "execution_count": 45,
   "metadata": {},
   "outputs": [],
   "source": [
    "df.set_index('Date', inplace=True)\n",
    "df.sort_index(inplace=True)"
   ]
  },
  {
   "cell_type": "code",
   "execution_count": 46,
   "metadata": {},
   "outputs": [],
   "source": [
    "trainset=np.arange(0, 252)"
   ]
  },
  {
   "cell_type": "code",
   "execution_count": 49,
   "metadata": {},
   "outputs": [],
   "source": [
    "testset=np.arange(trainset.shape[0], df.shape[0])"
   ]
  },
  {
   "cell_type": "code",
   "execution_count": 52,
   "metadata": {},
   "outputs": [],
   "source": [
    "# Determine hedge ratio on trainset\n",
    "model=sm.OLS(df.loc[:, 'Adj Close_GLD'].iloc[trainset], df.loc[:, 'Adj Close_GDX'].iloc[trainset])"
   ]
  },
  {
   "cell_type": "code",
   "execution_count": 57,
   "metadata": {},
   "outputs": [],
   "source": [
    "results=model.fit()"
   ]
  },
  {
   "cell_type": "code",
   "execution_count": 60,
   "metadata": {},
   "outputs": [],
   "source": [
    "hedgeRatio = results.params"
   ]
  },
  {
   "cell_type": "code",
   "execution_count": 66,
   "metadata": {},
   "outputs": [
    {
     "data": {
      "text/plain": [
       "Adj Close_GDX    1.631009\n",
       "dtype: float64"
      ]
     },
     "execution_count": 66,
     "metadata": {},
     "output_type": "execute_result"
    }
   ],
   "source": [
    "hedgeRatio"
   ]
  },
  {
   "cell_type": "code",
   "execution_count": 62,
   "metadata": {},
   "outputs": [],
   "source": [
    "spread=df.loc[:, 'Adj Close_GLD']-hedgeRatio[0]*df.loc[:, 'Adj Close_GDX']"
   ]
  },
  {
   "cell_type": "code",
   "execution_count": 63,
   "metadata": {},
   "outputs": [
    {
     "data": {
      "text/plain": [
       "Date\n",
       "2006-05-23    4.646311\n",
       "2006-05-24    4.674964\n",
       "2006-05-25    2.379148\n",
       "2006-05-26    2.404016\n",
       "2006-05-30    3.033799\n",
       "                ...   \n",
       "2007-11-26    4.544719\n",
       "2007-11-27    4.078673\n",
       "2007-11-28    1.509911\n",
       "2007-11-29    1.589959\n",
       "2007-11-30    1.706425\n",
       "Length: 385, dtype: float64"
      ]
     },
     "execution_count": 63,
     "metadata": {},
     "output_type": "execute_result"
    }
   ],
   "source": [
    "spread"
   ]
  },
  {
   "cell_type": "code",
   "execution_count": 67,
   "metadata": {},
   "outputs": [
    {
     "data": {
      "text/plain": [
       "[<matplotlib.lines.Line2D at 0x7fd4c084d670>]"
      ]
     },
     "execution_count": 67,
     "metadata": {},
     "output_type": "execute_result"
    },
    {
     "data": {
      "image/png": "[encoded data removed]",
      "text/plain": [
       "<Figure size 432x288 with 1 Axes>"
      ]
     },
     "metadata": {
      "needs_background": "light"
     },
     "output_type": "display_data"
    }
   ],
   "source": [
    "plt.plot(spread.iloc[trainset])"
   ]
  },
  {
   "cell_type": "code",
   "execution_count": 68,
   "metadata": {},
   "outputs": [
    {
     "data": {
      "text/plain": [
       "[<matplotlib.lines.Line2D at 0x7fd4c082ae50>]"
      ]
     },
     "execution_count": 68,
     "metadata": {},
     "output_type": "execute_result"
    },
    {
     "data": {
      "image/png": "[encoded data removed]",
      "text/plain": [
       "<Figure size 432x288 with 1 Axes>"
      ]
     },
     "metadata": {
      "needs_background": "light"
     },
     "output_type": "display_data"
    }
   ],
   "source": [
    "plt.plot(spread.iloc[testset])"
   ]
  },
  {
   "cell_type": "code",
   "execution_count": 71,
   "metadata": {},
   "outputs": [],
   "source": [
    "spreadMean=np.mean(spread.iloc[trainset])\n",
    "spreadStd=np.std(spread.iloc[trainset])\n",
    "df['zscore']=(spread-spreadMean)/spreadStd \n",
    "df['positions_GLD_Long']=0\n",
    "df['positions_GDX_Long']=0\n",
    "df['positions_GLD_Short']=0\n",
    "df['positions_GDX_Short']=0"
   ]
  },
  {
   "cell_type": "code",
   "execution_count": 72,
   "metadata": {},
   "outputs": [
    {
     "data": {
      "text/html": [
       "<div>\n",
       "<style scoped>\n",
       "    .dataframe tbody tr th:only-of-type {\n",
       "        vertical-align: middle;\n",
       "    }\n",
       "\n",
       "    .dataframe tbody tr th {\n",
       "        vertical-align: top;\n",
       "    }\n",
       "\n",
       "    .dataframe thead th {\n",
       "        text-align: right;\n",
       "    }\n",
       "</style>\n",
       "<table border=\"1\" class=\"dataframe\">\n",
       "  <thead>\n",
       "    <tr style=\"text-align: right;\">\n",
       "      <th></th>\n",
       "      <th>Open_GLD</th>\n",
       "      <th>High_GLD</th>\n",
       "      <th>Low_GLD</th>\n",
       "      <th>Close_GLD</th>\n",
       "      <th>Volume_GLD</th>\n",
       "      <th>Adj Close_GLD</th>\n",
       "      <th>Open_GDX</th>\n",
       "      <th>High_GDX</th>\n",
       "      <th>Low_GDX</th>\n",
       "      <th>Close_GDX</th>\n",
       "      <th>Volume_GDX</th>\n",
       "      <th>Adj Close_GDX</th>\n",
       "      <th>zscore</th>\n",
       "      <th>positions_GLD_Long</th>\n",
       "      <th>positions_GDX_Long</th>\n",
       "      <th>positions_GLD_Short</th>\n",
       "      <th>positions_GDX_Short</th>\n",
       "    </tr>\n",
       "    <tr>\n",
       "      <th>Date</th>\n",
       "      <th></th>\n",
       "      <th></th>\n",
       "      <th></th>\n",
       "      <th></th>\n",
       "      <th></th>\n",
       "      <th></th>\n",
       "      <th></th>\n",
       "      <th></th>\n",
       "      <th></th>\n",
       "      <th></th>\n",
       "      <th></th>\n",
       "      <th></th>\n",
       "      <th></th>\n",
       "      <th></th>\n",
       "      <th></th>\n",
       "      <th></th>\n",
       "      <th></th>\n",
       "    </tr>\n",
       "  </thead>\n",
       "  <tbody>\n",
       "    <tr>\n",
       "      <th>2006-05-23</th>\n",
       "      <td>65.99</td>\n",
       "      <td>67.16</td>\n",
       "      <td>65.91</td>\n",
       "      <td>66.38</td>\n",
       "      <td>10509700</td>\n",
       "      <td>66.38</td>\n",
       "      <td>37.75</td>\n",
       "      <td>39.22</td>\n",
       "      <td>37.75</td>\n",
       "      <td>37.96</td>\n",
       "      <td>620900</td>\n",
       "      <td>37.85</td>\n",
       "      <td>2.362182</td>\n",
       "      <td>0</td>\n",
       "      <td>0</td>\n",
       "      <td>0</td>\n",
       "      <td>0</td>\n",
       "    </tr>\n",
       "    <tr>\n",
       "      <th>2006-05-24</th>\n",
       "      <td>64.83</td>\n",
       "      <td>65.16</td>\n",
       "      <td>63.22</td>\n",
       "      <td>64.06</td>\n",
       "      <td>11065600</td>\n",
       "      <td>64.06</td>\n",
       "      <td>37.13</td>\n",
       "      <td>37.57</td>\n",
       "      <td>35.87</td>\n",
       "      <td>36.52</td>\n",
       "      <td>638600</td>\n",
       "      <td>36.41</td>\n",
       "      <td>2.376914</td>\n",
       "      <td>0</td>\n",
       "      <td>0</td>\n",
       "      <td>0</td>\n",
       "      <td>0</td>\n",
       "    </tr>\n",
       "    <tr>\n",
       "      <th>2006-05-25</th>\n",
       "      <td>64.12</td>\n",
       "      <td>64.76</td>\n",
       "      <td>63.76</td>\n",
       "      <td>64.70</td>\n",
       "      <td>6505400</td>\n",
       "      <td>64.70</td>\n",
       "      <td>37.18</td>\n",
       "      <td>38.32</td>\n",
       "      <td>36.98</td>\n",
       "      <td>38.32</td>\n",
       "      <td>367000</td>\n",
       "      <td>38.21</td>\n",
       "      <td>1.196462</td>\n",
       "      <td>0</td>\n",
       "      <td>0</td>\n",
       "      <td>0</td>\n",
       "      <td>0</td>\n",
       "    </tr>\n",
       "    <tr>\n",
       "      <th>2006-05-26</th>\n",
       "      <td>65.01</td>\n",
       "      <td>65.10</td>\n",
       "      <td>63.75</td>\n",
       "      <td>65.10</td>\n",
       "      <td>5265900</td>\n",
       "      <td>65.10</td>\n",
       "      <td>38.74</td>\n",
       "      <td>38.74</td>\n",
       "      <td>37.77</td>\n",
       "      <td>38.55</td>\n",
       "      <td>269400</td>\n",
       "      <td>38.44</td>\n",
       "      <td>1.209248</td>\n",
       "      <td>0</td>\n",
       "      <td>0</td>\n",
       "      <td>0</td>\n",
       "      <td>0</td>\n",
       "    </tr>\n",
       "    <tr>\n",
       "      <th>2006-05-30</th>\n",
       "      <td>65.20</td>\n",
       "      <td>66.24</td>\n",
       "      <td>65.00</td>\n",
       "      <td>65.11</td>\n",
       "      <td>8240200</td>\n",
       "      <td>65.11</td>\n",
       "      <td>39.50</td>\n",
       "      <td>39.72</td>\n",
       "      <td>38.11</td>\n",
       "      <td>38.17</td>\n",
       "      <td>559100</td>\n",
       "      <td>38.06</td>\n",
       "      <td>1.533068</td>\n",
       "      <td>0</td>\n",
       "      <td>0</td>\n",
       "      <td>0</td>\n",
       "      <td>0</td>\n",
       "    </tr>\n",
       "  </tbody>\n",
       "</table>\n",
       "</div>"
      ],
      "text/plain": [
       "            Open_GLD  High_GLD  Low_GLD  Close_GLD  Volume_GLD  Adj Close_GLD  \\\n",
       "Date                                                                            \n",
       "2006-05-23     65.99     67.16    65.91      66.38    10509700          66.38   \n",
       "2006-05-24     64.83     65.16    63.22      64.06    11065600          64.06   \n",
       "2006-05-25     64.12     64.76    63.76      64.70     6505400          64.70   \n",
       "2006-05-26     65.01     65.10    63.75      65.10     5265900          65.10   \n",
       "2006-05-30     65.20     66.24    65.00      65.11     8240200          65.11   \n",
       "\n",
       "            Open_GDX  High_GDX  Low_GDX  Close_GDX  Volume_GDX  Adj Close_GDX  \\\n",
       "Date                                                                            \n",
       "2006-05-23     37.75     39.22    37.75      37.96      620900          37.85   \n",
       "2006-05-24     37.13     37.57    35.87      36.52      638600          36.41   \n",
       "2006-05-25     37.18     38.32    36.98      38.32      367000          38.21   \n",
       "2006-05-26     38.74     38.74    37.77      38.55      269400          38.44   \n",
       "2006-05-30     39.50     39.72    38.11      38.17      559100          38.06   \n",
       "\n",
       "              zscore  positions_GLD_Long  positions_GDX_Long  \\\n",
       "Date                                                           \n",
       "2006-05-23  2.362182                   0                   0   \n",
       "2006-05-24  2.376914                   0                   0   \n",
       "2006-05-25  1.196462                   0                   0   \n",
       "2006-05-26  1.209248                   0                   0   \n",
       "2006-05-30  1.533068                   0                   0   \n",
       "\n",
       "            positions_GLD_Short  positions_GDX_Short  \n",
       "Date                                                  \n",
       "2006-05-23                    0                    0  \n",
       "2006-05-24                    0                    0  \n",
       "2006-05-25                    0                    0  \n",
       "2006-05-26                    0                    0  \n",
       "2006-05-30                    0                    0  "
      ]
     },
     "execution_count": 72,
     "metadata": {},
     "output_type": "execute_result"
    }
   ],
   "source": [
    "df.head()"
   ]
  },
  {
   "cell_type": "code",
   "execution_count": 73,
   "metadata": {},
   "outputs": [],
   "source": [
    "df.loc[df.zscore>=2, ('positions_GLD_Short', 'positions_GDX_Short')]=[-1, 1] # Short spread "
   ]
  },
  {
   "cell_type": "code",
   "execution_count": 75,
   "metadata": {},
   "outputs": [],
   "source": [
    "df.loc[df.zscore<=-2, ('positions_GLD_Long', 'positions_GDX_Long')]=[1, -1] # Buy spread"
   ]
  },
  {
   "cell_type": "code",
   "execution_count": 78,
   "metadata": {},
   "outputs": [],
   "source": [
    "df.loc[df.zscore<=1, ('positions_GLD_Short', 'positions_GDX_Short')]=0 # Exit short spread\n",
    "df.loc[df.zscore>=-1, ('positions_GLD_Long', 'positions_ GDX_Long')]=0 # Exit long spread"
   ]
  },
  {
   "cell_type": "code",
   "execution_count": 79,
   "metadata": {},
   "outputs": [],
   "source": [
    "df.fillna(method='ffill', inplace=True) # ensure exist- ing positions are carried forward unless there is an exit signal"
   ]
  },
  {
   "cell_type": "markdown",
   "metadata": {},
   "source": [
    "### simple mean-reverting model"
   ]
  },
  {
   "cell_type": "code",
   "execution_count": 81,
   "metadata": {},
   "outputs": [],
   "source": [
    "# Buy the stocks with the worst previous one-day returns, and short the ones with the best previous one-day returns"
   ]
  },
  {
   "cell_type": "markdown",
   "metadata": {},
   "source": [
    "### Testing the Cointegration versus Correlation"
   ]
  },
  {
   "cell_type": "code",
   "execution_count": 1,
   "metadata": {},
   "outputs": [],
   "source": [
    "import numpy as np\n",
    "import pandas as pd\n",
    "import matplotlib.pyplot as plt\n",
    "from statsmodels.tsa.stattools import coint \n",
    "from statsmodels.api import OLS\n",
    "from scipy.stats import pearsonr "
   ]
  },
  {
   "cell_type": "code",
   "execution_count": 2,
   "metadata": {},
   "outputs": [],
   "source": [
    "df1=pd.read_excel('KO.xls')\n",
    "df2=pd.read_excel('PEP.xls')"
   ]
  },
  {
   "cell_type": "code",
   "execution_count": 3,
   "metadata": {},
   "outputs": [
    {
     "data": {
      "text/html": [
       "<div>\n",
       "<style scoped>\n",
       "    .dataframe tbody tr th:only-of-type {\n",
       "        vertical-align: middle;\n",
       "    }\n",
       "\n",
       "    .dataframe tbody tr th {\n",
       "        vertical-align: top;\n",
       "    }\n",
       "\n",
       "    .dataframe thead th {\n",
       "        text-align: right;\n",
       "    }\n",
       "</style>\n",
       "<table border=\"1\" class=\"dataframe\">\n",
       "  <thead>\n",
       "    <tr style=\"text-align: right;\">\n",
       "      <th></th>\n",
       "      <th>Date</th>\n",
       "      <th>Open</th>\n",
       "      <th>High</th>\n",
       "      <th>Low</th>\n",
       "      <th>Close</th>\n",
       "      <th>Volume</th>\n",
       "      <th>Adj Close</th>\n",
       "    </tr>\n",
       "  </thead>\n",
       "  <tbody>\n",
       "    <tr>\n",
       "      <th>0</th>\n",
       "      <td>2008-01-18</td>\n",
       "      <td>62.34</td>\n",
       "      <td>62.45</td>\n",
       "      <td>60.16</td>\n",
       "      <td>60.74</td>\n",
       "      <td>16879100</td>\n",
       "      <td>60.74</td>\n",
       "    </tr>\n",
       "    <tr>\n",
       "      <th>1</th>\n",
       "      <td>2008-01-17</td>\n",
       "      <td>63.25</td>\n",
       "      <td>63.31</td>\n",
       "      <td>61.90</td>\n",
       "      <td>62.04</td>\n",
       "      <td>18636500</td>\n",
       "      <td>62.04</td>\n",
       "    </tr>\n",
       "    <tr>\n",
       "      <th>2</th>\n",
       "      <td>2008-01-16</td>\n",
       "      <td>63.28</td>\n",
       "      <td>63.85</td>\n",
       "      <td>62.48</td>\n",
       "      <td>62.65</td>\n",
       "      <td>12667000</td>\n",
       "      <td>62.65</td>\n",
       "    </tr>\n",
       "    <tr>\n",
       "      <th>3</th>\n",
       "      <td>2008-01-15</td>\n",
       "      <td>63.63</td>\n",
       "      <td>64.20</td>\n",
       "      <td>63.56</td>\n",
       "      <td>63.61</td>\n",
       "      <td>11499700</td>\n",
       "      <td>63.61</td>\n",
       "    </tr>\n",
       "    <tr>\n",
       "      <th>4</th>\n",
       "      <td>2008-01-14</td>\n",
       "      <td>63.75</td>\n",
       "      <td>64.52</td>\n",
       "      <td>63.75</td>\n",
       "      <td>64.30</td>\n",
       "      <td>11465700</td>\n",
       "      <td>64.30</td>\n",
       "    </tr>\n",
       "  </tbody>\n",
       "</table>\n",
       "</div>"
      ],
      "text/plain": [
       "        Date   Open   High    Low  Close    Volume  Adj Close\n",
       "0 2008-01-18  62.34  62.45  60.16  60.74  16879100      60.74\n",
       "1 2008-01-17  63.25  63.31  61.90  62.04  18636500      62.04\n",
       "2 2008-01-16  63.28  63.85  62.48  62.65  12667000      62.65\n",
       "3 2008-01-15  63.63  64.20  63.56  63.61  11499700      63.61\n",
       "4 2008-01-14  63.75  64.52  63.75  64.30  11465700      64.30"
      ]
     },
     "execution_count": 3,
     "metadata": {},
     "output_type": "execute_result"
    }
   ],
   "source": [
    "df1.head()"
   ]
  },
  {
   "cell_type": "code",
   "execution_count": 4,
   "metadata": {},
   "outputs": [],
   "source": [
    "df=pd.merge(df1, df2, on='Date', suffixes=('_KO', '_PEP'))"
   ]
  },
  {
   "cell_type": "code",
   "execution_count": 5,
   "metadata": {},
   "outputs": [
    {
     "data": {
      "text/html": [
       "<div>\n",
       "<style scoped>\n",
       "    .dataframe tbody tr th:only-of-type {\n",
       "        vertical-align: middle;\n",
       "    }\n",
       "\n",
       "    .dataframe tbody tr th {\n",
       "        vertical-align: top;\n",
       "    }\n",
       "\n",
       "    .dataframe thead th {\n",
       "        text-align: right;\n",
       "    }\n",
       "</style>\n",
       "<table border=\"1\" class=\"dataframe\">\n",
       "  <thead>\n",
       "    <tr style=\"text-align: right;\">\n",
       "      <th></th>\n",
       "      <th>Date</th>\n",
       "      <th>Open_KO</th>\n",
       "      <th>High_KO</th>\n",
       "      <th>Low_KO</th>\n",
       "      <th>Close_KO</th>\n",
       "      <th>Volume_KO</th>\n",
       "      <th>Adj Close_KO</th>\n",
       "      <th>Open_PEP</th>\n",
       "      <th>High_PEP</th>\n",
       "      <th>Low_PEP</th>\n",
       "      <th>Close_PEP</th>\n",
       "      <th>Volume_PEP</th>\n",
       "      <th>Adj Close_PEP</th>\n",
       "    </tr>\n",
       "  </thead>\n",
       "  <tbody>\n",
       "    <tr>\n",
       "      <th>0</th>\n",
       "      <td>2008-01-18</td>\n",
       "      <td>62.34</td>\n",
       "      <td>62.45</td>\n",
       "      <td>60.16</td>\n",
       "      <td>60.74</td>\n",
       "      <td>16879100</td>\n",
       "      <td>60.74</td>\n",
       "      <td>72.54</td>\n",
       "      <td>73.16</td>\n",
       "      <td>70.95</td>\n",
       "      <td>71.46</td>\n",
       "      <td>8986000</td>\n",
       "      <td>71.46</td>\n",
       "    </tr>\n",
       "    <tr>\n",
       "      <th>1</th>\n",
       "      <td>2008-01-17</td>\n",
       "      <td>63.25</td>\n",
       "      <td>63.31</td>\n",
       "      <td>61.90</td>\n",
       "      <td>62.04</td>\n",
       "      <td>18636500</td>\n",
       "      <td>62.04</td>\n",
       "      <td>73.70</td>\n",
       "      <td>73.70</td>\n",
       "      <td>71.84</td>\n",
       "      <td>72.10</td>\n",
       "      <td>10016800</td>\n",
       "      <td>72.10</td>\n",
       "    </tr>\n",
       "    <tr>\n",
       "      <th>2</th>\n",
       "      <td>2008-01-16</td>\n",
       "      <td>63.28</td>\n",
       "      <td>63.85</td>\n",
       "      <td>62.48</td>\n",
       "      <td>62.65</td>\n",
       "      <td>12667000</td>\n",
       "      <td>62.65</td>\n",
       "      <td>74.35</td>\n",
       "      <td>74.85</td>\n",
       "      <td>73.28</td>\n",
       "      <td>73.54</td>\n",
       "      <td>9636900</td>\n",
       "      <td>73.54</td>\n",
       "    </tr>\n",
       "    <tr>\n",
       "      <th>3</th>\n",
       "      <td>2008-01-15</td>\n",
       "      <td>63.63</td>\n",
       "      <td>64.20</td>\n",
       "      <td>63.56</td>\n",
       "      <td>63.61</td>\n",
       "      <td>11499700</td>\n",
       "      <td>63.61</td>\n",
       "      <td>76.02</td>\n",
       "      <td>76.55</td>\n",
       "      <td>74.71</td>\n",
       "      <td>74.83</td>\n",
       "      <td>9342100</td>\n",
       "      <td>74.83</td>\n",
       "    </tr>\n",
       "    <tr>\n",
       "      <th>4</th>\n",
       "      <td>2008-01-14</td>\n",
       "      <td>63.75</td>\n",
       "      <td>64.52</td>\n",
       "      <td>63.75</td>\n",
       "      <td>64.30</td>\n",
       "      <td>11465700</td>\n",
       "      <td>64.30</td>\n",
       "      <td>78.25</td>\n",
       "      <td>78.39</td>\n",
       "      <td>76.65</td>\n",
       "      <td>76.92</td>\n",
       "      <td>7762500</td>\n",
       "      <td>76.92</td>\n",
       "    </tr>\n",
       "  </tbody>\n",
       "</table>\n",
       "</div>"
      ],
      "text/plain": [
       "        Date  Open_KO  High_KO  ...  Close_PEP  Volume_PEP  Adj Close_PEP\n",
       "0 2008-01-18    62.34    62.45  ...      71.46     8986000          71.46\n",
       "1 2008-01-17    63.25    63.31  ...      72.10    10016800          72.10\n",
       "2 2008-01-16    63.28    63.85  ...      73.54     9636900          73.54\n",
       "3 2008-01-15    63.63    64.20  ...      74.83     9342100          74.83\n",
       "4 2008-01-14    63.75    64.52  ...      76.92     7762500          76.92\n",
       "\n",
       "[5 rows x 13 columns]"
      ]
     },
     "execution_count": 5,
     "metadata": {},
     "output_type": "execute_result"
    }
   ],
   "source": [
    "df.head()"
   ]
  },
  {
   "cell_type": "code",
   "execution_count": 6,
   "metadata": {},
   "outputs": [],
   "source": [
    "df.set_index('Date', inplace=True) \n",
    "df.sort_index(inplace=True)"
   ]
  },
  {
   "cell_type": "code",
   "execution_count": 7,
   "metadata": {},
   "outputs": [
    {
     "data": {
      "text/html": [
       "<div>\n",
       "<style scoped>\n",
       "    .dataframe tbody tr th:only-of-type {\n",
       "        vertical-align: middle;\n",
       "    }\n",
       "\n",
       "    .dataframe tbody tr th {\n",
       "        vertical-align: top;\n",
       "    }\n",
       "\n",
       "    .dataframe thead th {\n",
       "        text-align: right;\n",
       "    }\n",
       "</style>\n",
       "<table border=\"1\" class=\"dataframe\">\n",
       "  <thead>\n",
       "    <tr style=\"text-align: right;\">\n",
       "      <th></th>\n",
       "      <th>Open_KO</th>\n",
       "      <th>High_KO</th>\n",
       "      <th>Low_KO</th>\n",
       "      <th>Close_KO</th>\n",
       "      <th>Volume_KO</th>\n",
       "      <th>Adj Close_KO</th>\n",
       "      <th>Open_PEP</th>\n",
       "      <th>High_PEP</th>\n",
       "      <th>Low_PEP</th>\n",
       "      <th>Close_PEP</th>\n",
       "      <th>Volume_PEP</th>\n",
       "      <th>Adj Close_PEP</th>\n",
       "    </tr>\n",
       "    <tr>\n",
       "      <th>Date</th>\n",
       "      <th></th>\n",
       "      <th></th>\n",
       "      <th></th>\n",
       "      <th></th>\n",
       "      <th></th>\n",
       "      <th></th>\n",
       "      <th></th>\n",
       "      <th></th>\n",
       "      <th></th>\n",
       "      <th></th>\n",
       "      <th></th>\n",
       "      <th></th>\n",
       "    </tr>\n",
       "  </thead>\n",
       "  <tbody>\n",
       "    <tr>\n",
       "      <th>1977-01-03</th>\n",
       "      <td>79.00</td>\n",
       "      <td>79.00</td>\n",
       "      <td>78.12</td>\n",
       "      <td>78.50</td>\n",
       "      <td>1305600</td>\n",
       "      <td>0.68</td>\n",
       "      <td>79.00</td>\n",
       "      <td>80.13</td>\n",
       "      <td>79.00</td>\n",
       "      <td>80.00</td>\n",
       "      <td>1085400</td>\n",
       "      <td>0.66</td>\n",
       "    </tr>\n",
       "    <tr>\n",
       "      <th>1977-01-04</th>\n",
       "      <td>78.37</td>\n",
       "      <td>78.37</td>\n",
       "      <td>77.00</td>\n",
       "      <td>77.62</td>\n",
       "      <td>1440000</td>\n",
       "      <td>0.67</td>\n",
       "      <td>80.00</td>\n",
       "      <td>80.25</td>\n",
       "      <td>78.88</td>\n",
       "      <td>79.00</td>\n",
       "      <td>3018600</td>\n",
       "      <td>0.65</td>\n",
       "    </tr>\n",
       "    <tr>\n",
       "      <th>1977-01-05</th>\n",
       "      <td>77.62</td>\n",
       "      <td>77.75</td>\n",
       "      <td>76.37</td>\n",
       "      <td>76.37</td>\n",
       "      <td>2001600</td>\n",
       "      <td>0.66</td>\n",
       "      <td>78.75</td>\n",
       "      <td>78.75</td>\n",
       "      <td>77.88</td>\n",
       "      <td>78.38</td>\n",
       "      <td>2246400</td>\n",
       "      <td>0.65</td>\n",
       "    </tr>\n",
       "    <tr>\n",
       "      <th>1977-01-06</th>\n",
       "      <td>76.37</td>\n",
       "      <td>77.50</td>\n",
       "      <td>76.37</td>\n",
       "      <td>77.50</td>\n",
       "      <td>1555200</td>\n",
       "      <td>0.67</td>\n",
       "      <td>78.63</td>\n",
       "      <td>79.00</td>\n",
       "      <td>78.63</td>\n",
       "      <td>78.75</td>\n",
       "      <td>1004400</td>\n",
       "      <td>0.65</td>\n",
       "    </tr>\n",
       "    <tr>\n",
       "      <th>1977-01-07</th>\n",
       "      <td>77.50</td>\n",
       "      <td>77.50</td>\n",
       "      <td>76.50</td>\n",
       "      <td>77.00</td>\n",
       "      <td>1694400</td>\n",
       "      <td>0.67</td>\n",
       "      <td>78.75</td>\n",
       "      <td>78.75</td>\n",
       "      <td>78.25</td>\n",
       "      <td>78.50</td>\n",
       "      <td>950400</td>\n",
       "      <td>0.65</td>\n",
       "    </tr>\n",
       "  </tbody>\n",
       "</table>\n",
       "</div>"
      ],
      "text/plain": [
       "            Open_KO  High_KO  Low_KO  ...  Close_PEP  Volume_PEP  Adj Close_PEP\n",
       "Date                                  ...                                      \n",
       "1977-01-03    79.00    79.00   78.12  ...      80.00     1085400           0.66\n",
       "1977-01-04    78.37    78.37   77.00  ...      79.00     3018600           0.65\n",
       "1977-01-05    77.62    77.75   76.37  ...      78.38     2246400           0.65\n",
       "1977-01-06    76.37    77.50   76.37  ...      78.75     1004400           0.65\n",
       "1977-01-07    77.50    77.50   76.50  ...      78.50      950400           0.65\n",
       "\n",
       "[5 rows x 12 columns]"
      ]
     },
     "execution_count": 7,
     "metadata": {},
     "output_type": "execute_result"
    }
   ],
   "source": [
    "df.head()"
   ]
  },
  {
   "cell_type": "code",
   "execution_count": 8,
   "metadata": {},
   "outputs": [],
   "source": [
    "coint_t, pvalue, crit_value=coint(df['Adj Close_KO'],df['Adj Close_PEP'])"
   ]
  },
  {
   "cell_type": "code",
   "execution_count": 9,
   "metadata": {},
   "outputs": [
    {
     "data": {
      "text/plain": [
       "(-1.581551704151716,\n",
       " 0.7286134576473535,\n",
       " array([-3.89783854, -3.33691006, -3.04499143]))"
      ]
     },
     "execution_count": 9,
     "metadata": {},
     "output_type": "execute_result"
    }
   ],
   "source": [
    "(coint_t, pvalue, crit_value)"
   ]
  },
  {
   "cell_type": "code",
   "execution_count": 10,
   "metadata": {},
   "outputs": [],
   "source": [
    "# pvalue says probability of null hypothesis (of no cointegration) is 73%"
   ]
  },
  {
   "cell_type": "code",
   "execution_count": 11,
   "metadata": {},
   "outputs": [],
   "source": [
    "dailyret=df.loc[:, ('Adj Close_KO', 'Adj Close_PEP')].pct_change()"
   ]
  },
  {
   "cell_type": "code",
   "execution_count": 12,
   "metadata": {},
   "outputs": [
    {
     "data": {
      "text/html": [
       "<div>\n",
       "<style scoped>\n",
       "    .dataframe tbody tr th:only-of-type {\n",
       "        vertical-align: middle;\n",
       "    }\n",
       "\n",
       "    .dataframe tbody tr th {\n",
       "        vertical-align: top;\n",
       "    }\n",
       "\n",
       "    .dataframe thead th {\n",
       "        text-align: right;\n",
       "    }\n",
       "</style>\n",
       "<table border=\"1\" class=\"dataframe\">\n",
       "  <thead>\n",
       "    <tr style=\"text-align: right;\">\n",
       "      <th></th>\n",
       "      <th>Adj Close_KO</th>\n",
       "      <th>Adj Close_PEP</th>\n",
       "    </tr>\n",
       "    <tr>\n",
       "      <th>Date</th>\n",
       "      <th></th>\n",
       "      <th></th>\n",
       "    </tr>\n",
       "  </thead>\n",
       "  <tbody>\n",
       "    <tr>\n",
       "      <th>1977-01-03</th>\n",
       "      <td>NaN</td>\n",
       "      <td>NaN</td>\n",
       "    </tr>\n",
       "    <tr>\n",
       "      <th>1977-01-04</th>\n",
       "      <td>-0.014706</td>\n",
       "      <td>-0.015152</td>\n",
       "    </tr>\n",
       "    <tr>\n",
       "      <th>1977-01-05</th>\n",
       "      <td>-0.014925</td>\n",
       "      <td>0.000000</td>\n",
       "    </tr>\n",
       "    <tr>\n",
       "      <th>1977-01-06</th>\n",
       "      <td>0.015152</td>\n",
       "      <td>0.000000</td>\n",
       "    </tr>\n",
       "    <tr>\n",
       "      <th>1977-01-07</th>\n",
       "      <td>0.000000</td>\n",
       "      <td>0.000000</td>\n",
       "    </tr>\n",
       "    <tr>\n",
       "      <th>...</th>\n",
       "      <td>...</td>\n",
       "      <td>...</td>\n",
       "    </tr>\n",
       "    <tr>\n",
       "      <th>2008-01-14</th>\n",
       "      <td>0.008311</td>\n",
       "      <td>-0.011057</td>\n",
       "    </tr>\n",
       "    <tr>\n",
       "      <th>2008-01-15</th>\n",
       "      <td>-0.010731</td>\n",
       "      <td>-0.027171</td>\n",
       "    </tr>\n",
       "    <tr>\n",
       "      <th>2008-01-16</th>\n",
       "      <td>-0.015092</td>\n",
       "      <td>-0.017239</td>\n",
       "    </tr>\n",
       "    <tr>\n",
       "      <th>2008-01-17</th>\n",
       "      <td>-0.009737</td>\n",
       "      <td>-0.019581</td>\n",
       "    </tr>\n",
       "    <tr>\n",
       "      <th>2008-01-18</th>\n",
       "      <td>-0.020954</td>\n",
       "      <td>-0.008877</td>\n",
       "    </tr>\n",
       "  </tbody>\n",
       "</table>\n",
       "<p>7835 rows × 2 columns</p>\n",
       "</div>"
      ],
      "text/plain": [
       "            Adj Close_KO  Adj Close_PEP\n",
       "Date                                   \n",
       "1977-01-03           NaN            NaN\n",
       "1977-01-04     -0.014706      -0.015152\n",
       "1977-01-05     -0.014925       0.000000\n",
       "1977-01-06      0.015152       0.000000\n",
       "1977-01-07      0.000000       0.000000\n",
       "...                  ...            ...\n",
       "2008-01-14      0.008311      -0.011057\n",
       "2008-01-15     -0.010731      -0.027171\n",
       "2008-01-16     -0.015092      -0.017239\n",
       "2008-01-17     -0.009737      -0.019581\n",
       "2008-01-18     -0.020954      -0.008877\n",
       "\n",
       "[7835 rows x 2 columns]"
      ]
     },
     "execution_count": 12,
     "metadata": {},
     "output_type": "execute_result"
    }
   ],
   "source": [
    "dailyret"
   ]
  },
  {
   "cell_type": "code",
   "execution_count": 13,
   "metadata": {},
   "outputs": [
    {
     "data": {
      "text/html": [
       "<div>\n",
       "<style scoped>\n",
       "    .dataframe tbody tr th:only-of-type {\n",
       "        vertical-align: middle;\n",
       "    }\n",
       "\n",
       "    .dataframe tbody tr th {\n",
       "        vertical-align: top;\n",
       "    }\n",
       "\n",
       "    .dataframe thead th {\n",
       "        text-align: right;\n",
       "    }\n",
       "</style>\n",
       "<table border=\"1\" class=\"dataframe\">\n",
       "  <thead>\n",
       "    <tr style=\"text-align: right;\">\n",
       "      <th></th>\n",
       "      <th>Adj Close_KO</th>\n",
       "      <th>Adj Close_PEP</th>\n",
       "    </tr>\n",
       "  </thead>\n",
       "  <tbody>\n",
       "    <tr>\n",
       "      <th>Adj Close_KO</th>\n",
       "      <td>1.000000</td>\n",
       "      <td>0.484924</td>\n",
       "    </tr>\n",
       "    <tr>\n",
       "      <th>Adj Close_PEP</th>\n",
       "      <td>0.484924</td>\n",
       "      <td>1.000000</td>\n",
       "    </tr>\n",
       "  </tbody>\n",
       "</table>\n",
       "</div>"
      ],
      "text/plain": [
       "               Adj Close_KO  Adj Close_PEP\n",
       "Adj Close_KO       1.000000       0.484924\n",
       "Adj Close_PEP      0.484924       1.000000"
      ]
     },
     "execution_count": 13,
     "metadata": {},
     "output_type": "execute_result"
    }
   ],
   "source": [
    "dailyret.corr()"
   ]
  },
  {
   "cell_type": "code",
   "execution_count": 15,
   "metadata": {},
   "outputs": [
    {
     "data": {
      "text/plain": [
       "(0.4849239439370571, 0.0)"
      ]
     },
     "execution_count": 15,
     "metadata": {},
     "output_type": "execute_result"
    }
   ],
   "source": [
    "dailyret_clean=dailyret.dropna()\n",
    "pearsonr(dailyret_clean.iloc[:,0], dailyret_clean.iloc[:,1]) "
   ]
  },
  {
   "cell_type": "markdown",
   "metadata": {},
   "source": [
    "## Calculation of the Half-Life of a Mean-Reverting Time Series"
   ]
  },
  {
   "cell_type": "code",
   "execution_count": 16,
   "metadata": {},
   "outputs": [],
   "source": [
    "df1=pd.read_excel('GLD.xls')\n",
    "df2=pd.read_excel('GDX.xls')\n",
    "df=pd.merge(df1, df2, on='Date', suffixes=('_GLD', '_GDX'))"
   ]
  },
  {
   "cell_type": "code",
   "execution_count": 17,
   "metadata": {},
   "outputs": [
    {
     "data": {
      "text/plain": [
       "(-3.6981160763300567,\n",
       " 0.01842783540953755,\n",
       " array([-3.92518794, -3.35208799, -3.05551324]))"
      ]
     },
     "execution_count": 17,
     "metadata": {},
     "output_type": "execute_result"
    }
   ],
   "source": [
    "df.set_index('Date', inplace=True) \n",
    "df.sort_index(inplace=True)\n",
    "\n",
    "coint_t, pvalue, crit_value=coint(df['Adj Close_GLD'],df['Adj Close_GDX'])\n",
    "(coint_t, pvalue, crit_value) "
   ]
  },
  {
   "cell_type": "code",
   "execution_count": 5,
   "metadata": {},
   "outputs": [],
   "source": [
    "from statsmodels.tsa.ar_model import AutoReg, ar_select_order\n",
    "import numpy as np\n",
    "import pandas as pd"
   ]
  },
  {
   "cell_type": "code",
   "execution_count": 8,
   "metadata": {},
   "outputs": [],
   "source": [
    "def get_df_from_csv(ticker):\n",
    "    try:\n",
    "        df = pd.read_csv(ticker + '.csv', index_col='Date', \n",
    "                         parse_dates=True)\n",
    "    except FileNotFoundError:\n",
    "        pass\n",
    "        # print(\"File Doesn't Exist\")\n",
    "    else:\n",
    "        return df"
   ]
  },
  {
   "cell_type": "code",
   "execution_count": 9,
   "metadata": {},
   "outputs": [],
   "source": [
    "a_df = get_df_from_csv(\"GOOG\") "
   ]
  },
  {
   "cell_type": "code",
   "execution_count": 10,
   "metadata": {},
   "outputs": [
    {
     "data": {
      "text/html": [
       "<div>\n",
       "<style scoped>\n",
       "    .dataframe tbody tr th:only-of-type {\n",
       "        vertical-align: middle;\n",
       "    }\n",
       "\n",
       "    .dataframe tbody tr th {\n",
       "        vertical-align: top;\n",
       "    }\n",
       "\n",
       "    .dataframe thead th {\n",
       "        text-align: right;\n",
       "    }\n",
       "</style>\n",
       "<table border=\"1\" class=\"dataframe\">\n",
       "  <thead>\n",
       "    <tr style=\"text-align: right;\">\n",
       "      <th></th>\n",
       "      <th>Unnamed: 0</th>\n",
       "      <th>Adj Close</th>\n",
       "      <th>daily_return</th>\n",
       "    </tr>\n",
       "    <tr>\n",
       "      <th>Date</th>\n",
       "      <th></th>\n",
       "      <th></th>\n",
       "      <th></th>\n",
       "    </tr>\n",
       "  </thead>\n",
       "  <tbody>\n",
       "    <tr>\n",
       "      <th>2017-01-03</th>\n",
       "      <td>0</td>\n",
       "      <td>786.140015</td>\n",
       "      <td>NaN</td>\n",
       "    </tr>\n",
       "    <tr>\n",
       "      <th>2017-01-04</th>\n",
       "      <td>1</td>\n",
       "      <td>786.900024</td>\n",
       "      <td>0.000967</td>\n",
       "    </tr>\n",
       "    <tr>\n",
       "      <th>2017-01-05</th>\n",
       "      <td>2</td>\n",
       "      <td>794.020020</td>\n",
       "      <td>0.009048</td>\n",
       "    </tr>\n",
       "    <tr>\n",
       "      <th>2017-01-06</th>\n",
       "      <td>3</td>\n",
       "      <td>806.150024</td>\n",
       "      <td>0.015277</td>\n",
       "    </tr>\n",
       "    <tr>\n",
       "      <th>2017-01-09</th>\n",
       "      <td>4</td>\n",
       "      <td>806.650024</td>\n",
       "      <td>0.000620</td>\n",
       "    </tr>\n",
       "  </tbody>\n",
       "</table>\n",
       "</div>"
      ],
      "text/plain": [
       "            Unnamed: 0   Adj Close  daily_return\n",
       "Date                                            \n",
       "2017-01-03           0  786.140015           NaN\n",
       "2017-01-04           1  786.900024      0.000967\n",
       "2017-01-05           2  794.020020      0.009048\n",
       "2017-01-06           3  806.150024      0.015277\n",
       "2017-01-09           4  806.650024      0.000620"
      ]
     },
     "execution_count": 10,
     "metadata": {},
     "output_type": "execute_result"
    }
   ],
   "source": [
    "a_df.head()"
   ]
  },
  {
   "cell_type": "code",
   "execution_count": 11,
   "metadata": {},
   "outputs": [],
   "source": [
    "a_df = a_df.asfreq('d') "
   ]
  },
  {
   "cell_type": "code",
   "execution_count": 12,
   "metadata": {},
   "outputs": [
    {
     "data": {
      "text/html": [
       "<div>\n",
       "<style scoped>\n",
       "    .dataframe tbody tr th:only-of-type {\n",
       "        vertical-align: middle;\n",
       "    }\n",
       "\n",
       "    .dataframe tbody tr th {\n",
       "        vertical-align: top;\n",
       "    }\n",
       "\n",
       "    .dataframe thead th {\n",
       "        text-align: right;\n",
       "    }\n",
       "</style>\n",
       "<table border=\"1\" class=\"dataframe\">\n",
       "  <thead>\n",
       "    <tr style=\"text-align: right;\">\n",
       "      <th></th>\n",
       "      <th>Unnamed: 0</th>\n",
       "      <th>Adj Close</th>\n",
       "      <th>daily_return</th>\n",
       "    </tr>\n",
       "    <tr>\n",
       "      <th>Date</th>\n",
       "      <th></th>\n",
       "      <th></th>\n",
       "      <th></th>\n",
       "    </tr>\n",
       "  </thead>\n",
       "  <tbody>\n",
       "    <tr>\n",
       "      <th>2017-01-03</th>\n",
       "      <td>0.0</td>\n",
       "      <td>786.140015</td>\n",
       "      <td>NaN</td>\n",
       "    </tr>\n",
       "    <tr>\n",
       "      <th>2017-01-04</th>\n",
       "      <td>1.0</td>\n",
       "      <td>786.900024</td>\n",
       "      <td>0.000967</td>\n",
       "    </tr>\n",
       "    <tr>\n",
       "      <th>2017-01-05</th>\n",
       "      <td>2.0</td>\n",
       "      <td>794.020020</td>\n",
       "      <td>0.009048</td>\n",
       "    </tr>\n",
       "    <tr>\n",
       "      <th>2017-01-06</th>\n",
       "      <td>3.0</td>\n",
       "      <td>806.150024</td>\n",
       "      <td>0.015277</td>\n",
       "    </tr>\n",
       "    <tr>\n",
       "      <th>2017-01-07</th>\n",
       "      <td>NaN</td>\n",
       "      <td>NaN</td>\n",
       "      <td>NaN</td>\n",
       "    </tr>\n",
       "  </tbody>\n",
       "</table>\n",
       "</div>"
      ],
      "text/plain": [
       "            Unnamed: 0   Adj Close  daily_return\n",
       "Date                                            \n",
       "2017-01-03         0.0  786.140015           NaN\n",
       "2017-01-04         1.0  786.900024      0.000967\n",
       "2017-01-05         2.0  794.020020      0.009048\n",
       "2017-01-06         3.0  806.150024      0.015277\n",
       "2017-01-07         NaN         NaN           NaN"
      ]
     },
     "execution_count": 12,
     "metadata": {},
     "output_type": "execute_result"
    }
   ],
   "source": [
    "a_df.head()"
   ]
  },
  {
   "cell_type": "code",
   "execution_count": 13,
   "metadata": {},
   "outputs": [],
   "source": [
    "a_df.index # Check frequency\n",
    "a_df = a_df.fillna(method='ffill')"
   ]
  },
  {
   "cell_type": "code",
   "execution_count": 14,
   "metadata": {},
   "outputs": [
    {
     "data": {
      "text/html": [
       "<div>\n",
       "<style scoped>\n",
       "    .dataframe tbody tr th:only-of-type {\n",
       "        vertical-align: middle;\n",
       "    }\n",
       "\n",
       "    .dataframe tbody tr th {\n",
       "        vertical-align: top;\n",
       "    }\n",
       "\n",
       "    .dataframe thead th {\n",
       "        text-align: right;\n",
       "    }\n",
       "</style>\n",
       "<table border=\"1\" class=\"dataframe\">\n",
       "  <thead>\n",
       "    <tr style=\"text-align: right;\">\n",
       "      <th></th>\n",
       "      <th>Adj Close</th>\n",
       "    </tr>\n",
       "    <tr>\n",
       "      <th>Date</th>\n",
       "      <th></th>\n",
       "    </tr>\n",
       "  </thead>\n",
       "  <tbody>\n",
       "    <tr>\n",
       "      <th>2017-01-03</th>\n",
       "      <td>786.140015</td>\n",
       "    </tr>\n",
       "    <tr>\n",
       "      <th>2017-01-04</th>\n",
       "      <td>786.900024</td>\n",
       "    </tr>\n",
       "    <tr>\n",
       "      <th>2017-01-05</th>\n",
       "      <td>794.020020</td>\n",
       "    </tr>\n",
       "    <tr>\n",
       "      <th>2017-01-06</th>\n",
       "      <td>806.150024</td>\n",
       "    </tr>\n",
       "    <tr>\n",
       "      <th>2017-01-07</th>\n",
       "      <td>806.150024</td>\n",
       "    </tr>\n",
       "    <tr>\n",
       "      <th>...</th>\n",
       "      <td>...</td>\n",
       "    </tr>\n",
       "    <tr>\n",
       "      <th>2021-08-15</th>\n",
       "      <td>2768.120117</td>\n",
       "    </tr>\n",
       "    <tr>\n",
       "      <th>2021-08-16</th>\n",
       "      <td>2778.320068</td>\n",
       "    </tr>\n",
       "    <tr>\n",
       "      <th>2021-08-17</th>\n",
       "      <td>2746.010010</td>\n",
       "    </tr>\n",
       "    <tr>\n",
       "      <th>2021-08-18</th>\n",
       "      <td>2731.399902</td>\n",
       "    </tr>\n",
       "    <tr>\n",
       "      <th>2021-08-19</th>\n",
       "      <td>2738.270020</td>\n",
       "    </tr>\n",
       "  </tbody>\n",
       "</table>\n",
       "<p>1690 rows × 1 columns</p>\n",
       "</div>"
      ],
      "text/plain": [
       "              Adj Close\n",
       "Date                   \n",
       "2017-01-03   786.140015\n",
       "2017-01-04   786.900024\n",
       "2017-01-05   794.020020\n",
       "2017-01-06   806.150024\n",
       "2017-01-07   806.150024\n",
       "...                 ...\n",
       "2021-08-15  2768.120117\n",
       "2021-08-16  2778.320068\n",
       "2021-08-17  2746.010010\n",
       "2021-08-18  2731.399902\n",
       "2021-08-19  2738.270020\n",
       "\n",
       "[1690 rows x 1 columns]"
      ]
     },
     "execution_count": 14,
     "metadata": {},
     "output_type": "execute_result"
    }
   ],
   "source": [
    "a_df.drop(a_df.columns[a_df.columns.str.contains('unnamed',case = False)],\n",
    "          axis = 1, inplace = True)\n",
    "\n",
    "# Delete daily return column\n",
    "a_df = a_df.drop(['daily_return'], axis=1)\n",
    "\n",
    "a_df"
   ]
  },
  {
   "cell_type": "code",
   "execution_count": 18,
   "metadata": {},
   "outputs": [],
   "source": [
    "#Statsmodels is a great library we can use to run regressions.\n",
    "import statsmodels.api as sm\n",
    "# Seaborn extends the capabilities of Matplotlib\n",
    "import seaborn as sns\n",
    "import matplotlib.pyplot as plt "
   ]
  },
  {
   "cell_type": "code",
   "execution_count": 16,
   "metadata": {},
   "outputs": [],
   "source": [
    "sns.set_style('darkgrid')\n",
    "# Add automatic datetime converters\n",
    "pd.plotting.register_matplotlib_converters()\n",
    "# Default figure size\n",
    "sns.mpl.rc('figure',figsize=(19, 13))"
   ]
  },
  {
   "cell_type": "code",
   "execution_count": 20,
   "metadata": {},
   "outputs": [
    {
     "name": "stderr",
     "output_type": "stream",
     "text": [
      "/Users/taikhanghao/opt/anaconda3/lib/python3.8/site-packages/statsmodels/tsa/ar_model.py:248: FutureWarning: The parameter names will change after 0.12 is released. Set old_names to False to use the new names now. Set old_names to True to use the old names. \n",
      "  warnings.warn(\n",
      "/Users/taikhanghao/opt/anaconda3/lib/python3.8/site-packages/statsmodels/tsa/ar_model.py:248: FutureWarning: The parameter names will change after 0.12 is released. Set old_names to False to use the new names now. Set old_names to True to use the old names. \n",
      "  warnings.warn(\n"
     ]
    }
   ],
   "source": [
    "lags = ar_select_order(a_df, maxlag=30)"
   ]
  },
  {
   "cell_type": "code",
   "execution_count": 39,
   "metadata": {},
   "outputs": [
    {
     "data": {
      "text/plain": [
       "<statsmodels.tsa.ar_model.AROrderSelectionResults at 0x7f9acc1040a0>"
      ]
     },
     "execution_count": 39,
     "metadata": {},
     "output_type": "execute_result"
    }
   ],
   "source": [
    "lags"
   ]
  },
  {
   "cell_type": "code",
   "execution_count": 21,
   "metadata": {},
   "outputs": [
    {
     "name": "stderr",
     "output_type": "stream",
     "text": [
      "/Users/taikhanghao/opt/anaconda3/lib/python3.8/site-packages/statsmodels/tsa/ar_model.py:248: FutureWarning: The parameter names will change after 0.12 is released. Set old_names to False to use the new names now. Set old_names to True to use the old names. \n",
      "  warnings.warn(\n"
     ]
    }
   ],
   "source": [
    "model = AutoReg(a_df['Adj Close'], lags.ar_lags)\n",
    "model_fit = model.fit()"
   ]
  },
  {
   "cell_type": "code",
   "execution_count": 22,
   "metadata": {},
   "outputs": [
    {
     "data": {
      "text/plain": [
       "1690"
      ]
     },
     "execution_count": 22,
     "metadata": {},
     "output_type": "execute_result"
    }
   ],
   "source": [
    "len(a_df)"
   ]
  },
  {
   "cell_type": "code",
   "execution_count": 23,
   "metadata": {},
   "outputs": [],
   "source": [
    "train_df = a_df.iloc[50:1352] \n",
    "test_df = a_df.iloc[1352:]"
   ]
  },
  {
   "cell_type": "code",
   "execution_count": 24,
   "metadata": {},
   "outputs": [
    {
     "name": "stderr",
     "output_type": "stream",
     "text": [
      "/Users/taikhanghao/opt/anaconda3/lib/python3.8/site-packages/statsmodels/tsa/ar_model.py:248: FutureWarning: The parameter names will change after 0.12 is released. Set old_names to False to use the new names now. Set old_names to True to use the old names. \n",
      "  warnings.warn(\n"
     ]
    }
   ],
   "source": [
    "train_model = AutoReg(a_df['Adj Close'], 500).fit(cov_type=\"HC0\")\n"
   ]
  },
  {
   "cell_type": "code",
   "execution_count": 25,
   "metadata": {},
   "outputs": [],
   "source": [
    "start = len(train_df)\n",
    "end = len(train_df) + len(test_df) - 1"
   ]
  },
  {
   "cell_type": "code",
   "execution_count": 27,
   "metadata": {},
   "outputs": [],
   "source": [
    "prediction = train_model.predict(start=start, end=end, dynamic=True)"
   ]
  },
  {
   "cell_type": "code",
   "execution_count": 28,
   "metadata": {},
   "outputs": [],
   "source": [
    "ax = test_df.plot(ax=ax) # Orange\n",
    "ax = prediction.plot(ax=ax) "
   ]
  },
  {
   "cell_type": "code",
   "execution_count": 29,
   "metadata": {},
   "outputs": [],
   "source": [
    "forecast = train_model.predict(start=end, end=end+100, dynamic=True)\n",
    "ax = forecast.plot(ax=ax) "
   ]
  },
  {
   "cell_type": "code",
   "execution_count": 33,
   "metadata": {},
   "outputs": [
    {
     "name": "stderr",
     "output_type": "stream",
     "text": [
      "/Users/taikhanghao/opt/anaconda3/lib/python3.8/site-packages/statsmodels/tsa/ar_model.py:248: FutureWarning: The parameter names will change after 0.12 is released. Set old_names to False to use the new names now. Set old_names to True to use the old names. \n",
      "  warnings.warn(\n",
      "/Users/taikhanghao/opt/anaconda3/lib/python3.8/site-packages/statsmodels/tsa/ar_model.py:248: FutureWarning: The parameter names will change after 0.12 is released. Set old_names to False to use the new names now. Set old_names to True to use the old names. \n",
      "  warnings.warn(\n",
      "/Users/taikhanghao/opt/anaconda3/lib/python3.8/site-packages/statsmodels/tsa/ar_model.py:248: FutureWarning: The parameter names will change after 0.12 is released. Set old_names to False to use the new names now. Set old_names to True to use the old names. \n",
      "  warnings.warn(\n",
      "/Users/taikhanghao/opt/anaconda3/lib/python3.8/site-packages/statsmodels/tsa/ar_model.py:248: FutureWarning: The parameter names will change after 0.12 is released. Set old_names to False to use the new names now. Set old_names to True to use the old names. \n",
      "  warnings.warn(\n"
     ]
    },
    {
     "data": {
      "image/png": "[encoded data removed]",
      "text/plain": [
       "<Figure size 1368x936 with 1 Axes>"
      ]
     },
     "metadata": {},
     "output_type": "display_data"
    }
   ],
   "source": [
    "a_df = get_df_from_csv(\"GOOG\") \n",
    "\n",
    "a_df = a_df.asfreq('d') # Change frequency to day\n",
    "a_df.index # Check frequency\n",
    "a_df = a_df.fillna(method='ffill') # Fill missing values\n",
    "\n",
    "# Delete unnamed column\n",
    "a_df.drop(a_df.columns[a_df.columns.str.contains('unnamed',case = False)],\n",
    "          axis = 1, inplace = True)\n",
    "\n",
    "# Delete daily return column\n",
    "a_df = a_df.drop(['daily_return'], axis=1)\n",
    "\n",
    "a_df\n",
    "\n",
    "# Set style for seaborn plot\n",
    "sns.set_style('darkgrid')\n",
    "# Add automatic datetime converters\n",
    "pd.plotting.register_matplotlib_converters()\n",
    "# Default figure size\n",
    "sns.mpl.rc('figure',figsize=(19, 13))\n",
    "\n",
    "# Set fig and ax\n",
    "fig, ax = plt.subplots()\n",
    "# ax = a_df.plot(ax=ax)\n",
    "\n",
    "# Figure out optimum lags which will be 1 or 2 for this data set\n",
    "lags = ar_select_order(a_df, maxlag=30)\n",
    "\n",
    "# Create our model using whole data set\n",
    "model = AutoReg(a_df['Adj Close'], lags.ar_lags)\n",
    "model_fit = model.fit()\n",
    "\n",
    "# Define training and testing area\n",
    "len(a_df) # 1166 observations\n",
    "train_df = a_df.iloc[50:1352] # 80% minus 1st 50\n",
    "test_df = a_df.iloc[1352:] # Last 20%\n",
    "\n",
    "# Define training model for 500 days (Play with Number & Test)\n",
    "# and White's covariance estimator\n",
    "train_model = AutoReg(a_df['Adj Close'], 800).fit(cov_type=\"HC0\")\n",
    "\n",
    "# Define start and end for prediction \n",
    "start = len(train_df)\n",
    "end = len(train_df) + len(test_df) - 1\n",
    "\n",
    "prediction = train_model.predict(start=start, end=end, dynamic=True)\n",
    "\n",
    "# Plot testing data with prediction\n",
    "ax = test_df.plot(ax=ax) # Orange\n",
    "ax = prediction.plot(ax=ax) # Green\n",
    "\n",
    "# Predict 100 days into the future\n",
    "forecast = train_model.predict(start=end, end=end+100, dynamic=True)\n",
    "ax = forecast.plot(ax=ax)"
   ]
  },
  {
   "cell_type": "code",
   "execution_count": 34,
   "metadata": {},
   "outputs": [],
   "source": [
    "import yfinance as yf"
   ]
  },
  {
   "cell_type": "code",
   "execution_count": 53,
   "metadata": {},
   "outputs": [
    {
     "name": "stdout",
     "output_type": "stream",
     "text": [
      "[*********************100%***********************]  1 of 1 completed\n"
     ]
    }
   ],
   "source": [
    "closePrice = yf.download(\"GOOG\", start='2017-01-03',end='2021-08-19')['Adj Close']"
   ]
  },
  {
   "cell_type": "code",
   "execution_count": 54,
   "metadata": {},
   "outputs": [
    {
     "data": {
      "text/plain": [
       "Date\n",
       "2017-01-03     786.140015\n",
       "2017-01-04     786.900024\n",
       "2017-01-05     794.020020\n",
       "2017-01-06     806.150024\n",
       "2017-01-09     806.650024\n",
       "                 ...     \n",
       "2021-08-12    2767.790039\n",
       "2021-08-13    2768.120117\n",
       "2021-08-16    2778.320068\n",
       "2021-08-17    2746.010010\n",
       "2021-08-18    2731.399902\n",
       "Name: Adj Close, Length: 1165, dtype: float64"
      ]
     },
     "execution_count": 54,
     "metadata": {},
     "output_type": "execute_result"
    }
   ],
   "source": [
    "closePrice"
   ]
  },
  {
   "cell_type": "code",
   "execution_count": 57,
   "metadata": {},
   "outputs": [
    {
     "name": "stderr",
     "output_type": "stream",
     "text": [
      "/Users/taikhanghao/opt/anaconda3/lib/python3.8/site-packages/statsmodels/tsa/base/tsa_model.py:581: ValueWarning: A date index has been provided, but it has no associated frequency information and so will be ignored when e.g. forecasting.\n",
      "  warnings.warn('A date index has been provided, but it has no'\n",
      "/Users/taikhanghao/opt/anaconda3/lib/python3.8/site-packages/statsmodels/tsa/ar_model.py:248: FutureWarning: The parameter names will change after 0.12 is released. Set old_names to False to use the new names now. Set old_names to True to use the old names. \n",
      "  warnings.warn(\n",
      "/Users/taikhanghao/opt/anaconda3/lib/python3.8/site-packages/statsmodels/tsa/base/tsa_model.py:581: ValueWarning: A date index has been provided, but it has no associated frequency information and so will be ignored when e.g. forecasting.\n",
      "  warnings.warn('A date index has been provided, but it has no'\n",
      "/Users/taikhanghao/opt/anaconda3/lib/python3.8/site-packages/statsmodels/tsa/ar_model.py:248: FutureWarning: The parameter names will change after 0.12 is released. Set old_names to False to use the new names now. Set old_names to True to use the old names. \n",
      "  warnings.warn(\n",
      "/Users/taikhanghao/opt/anaconda3/lib/python3.8/site-packages/statsmodels/tsa/base/tsa_model.py:581: ValueWarning: A date index has been provided, but it has no associated frequency information and so will be ignored when e.g. forecasting.\n",
      "  warnings.warn('A date index has been provided, but it has no'\n",
      "/Users/taikhanghao/opt/anaconda3/lib/python3.8/site-packages/statsmodels/tsa/ar_model.py:248: FutureWarning: The parameter names will change after 0.12 is released. Set old_names to False to use the new names now. Set old_names to True to use the old names. \n",
      "  warnings.warn(\n",
      "/Users/taikhanghao/opt/anaconda3/lib/python3.8/site-packages/statsmodels/tsa/base/tsa_model.py:581: ValueWarning: A date index has been provided, but it has no associated frequency information and so will be ignored when e.g. forecasting.\n",
      "  warnings.warn('A date index has been provided, but it has no'\n",
      "/Users/taikhanghao/opt/anaconda3/lib/python3.8/site-packages/statsmodels/tsa/ar_model.py:248: FutureWarning: The parameter names will change after 0.12 is released. Set old_names to False to use the new names now. Set old_names to True to use the old names. \n",
      "  warnings.warn(\n",
      "/Users/taikhanghao/opt/anaconda3/lib/python3.8/site-packages/statsmodels/tsa/base/tsa_model.py:376: ValueWarning: No supported index is available. Prediction results will be given with an integer index beginning at `start`.\n",
      "  warnings.warn('No supported index is available.'\n",
      "/Users/taikhanghao/opt/anaconda3/lib/python3.8/site-packages/statsmodels/tsa/deterministic.py:147: UserWarning: Only PeriodIndexes, DatetimeIndexes with a frequency set, RangesIndexes, and Int64Indexes with a unit increment support extending. The index is set will contain the position relative to the data length.\n",
      "  warnings.warn(\n"
     ]
    },
    {
     "data": {
      "image/png": "[encoded data removed]",
      "text/plain": [
       "<Figure size 1368x936 with 1 Axes>"
      ]
     },
     "metadata": {},
     "output_type": "display_data"
    }
   ],
   "source": [
    "# Set style for seaborn plot\n",
    "sns.set_style('darkgrid')\n",
    "# Add automatic datetime converters\n",
    "pd.plotting.register_matplotlib_converters()\n",
    "# Default figure size\n",
    "sns.mpl.rc('figure',figsize=(19, 13))\n",
    "\n",
    "# Set fig and ax\n",
    "fig, ax = plt.subplots()\n",
    "# ax = a_df.plot(ax=ax)\n",
    "\n",
    "# Figure out optimum lags which will be 1 or 2 for this data set\n",
    "lags = ar_select_order(closePrice, maxlag=30)\n",
    "\n",
    "# Create our model using whole data set\n",
    "model = AutoReg(closePrice, lags.ar_lags)\n",
    "model_fit = model.fit()\n",
    "\n",
    "# Define training and testing area\n",
    "len(closePrice) # 1165 observations\n",
    "train_df = closePrice.iloc[50:932] # 80% minus 1st 50\n",
    "test_df = closePrice.iloc[932:] # Last 20%\n",
    "\n",
    "# Define training model for 500 days (Play with Number & Test)\n",
    "# and White's covariance estimator\n",
    "train_model = AutoReg(closePrice, 500).fit(cov_type=\"HC0\")\n",
    "\n",
    "# Define start and end for prediction \n",
    "start = len(train_df)\n",
    "end = len(train_df) + len(test_df) - 1\n",
    "\n",
    "prediction = train_model.predict(start=start, end=end, dynamic=True)\n",
    "\n",
    "# Plot testing data with prediction\n",
    "ax = test_df.plot(ax=ax) # Orange\n",
    "ax = prediction.plot(ax=ax) # Green\n",
    "\n",
    "# Predict 100 days into the future\n",
    "forecast = train_model.predict(start=end, end=end+100, dynamic=True)\n",
    "ax = forecast.plot(ax=ax)"
   ]
  },
  {
   "cell_type": "markdown",
   "metadata": {},
   "source": [
    "# Python for Finance - Eryk Lewinson "
   ]
  },
  {
   "cell_type": "markdown",
   "metadata": {},
   "source": [
    "## Page 49"
   ]
  },
  {
   "cell_type": "code",
   "execution_count": 1,
   "metadata": {},
   "outputs": [],
   "source": [
    "from datetime import datetime\n",
    "import backtrader as bt"
   ]
  },
  {
   "cell_type": "code",
   "execution_count": 2,
   "metadata": {},
   "outputs": [
    {
     "name": "stdout",
     "output_type": "stream",
     "text": [
      "Collecting backtrader\n",
      "  Downloading backtrader-1.9.76.123-py2.py3-none-any.whl (410 kB)\n",
      "\u001b[K     |████████████████████████████████| 410 kB 5.3 MB/s eta 0:00:01\n",
      "\u001b[?25hInstalling collected packages: backtrader\n",
      "Successfully installed backtrader-1.9.76.123\n",
      "Note: you may need to restart the kernel to use updated packages.\n"
     ]
    }
   ],
   "source": [
    "pip install backtrader"
   ]
  },
  {
   "cell_type": "code",
   "execution_count": 3,
   "metadata": {},
   "outputs": [
    {
     "ename": "ImportError",
     "evalue": "cannot import name 'warnings' from 'matplotlib.dates' (/Users/taikhanghao/opt/anaconda3/lib/python3.8/site-packages/matplotlib/dates.py)",
     "output_type": "error",
     "traceback": [
      "\u001b[0;31m---------------------------------------------------------------------------\u001b[0m",
      "\u001b[0;31mImportError\u001b[0m                               Traceback (most recent call last)",
      "\u001b[0;32m<ipython-input-3-63f2cb06acab>\u001b[0m in \u001b[0;36m<module>\u001b[0;34m\u001b[0m\n\u001b[1;32m     34\u001b[0m \u001b[0mcerebro\u001b[0m\u001b[0;34m.\u001b[0m\u001b[0maddstrategy\u001b[0m\u001b[0;34m(\u001b[0m\u001b[0mSmaCross\u001b[0m\u001b[0;34m)\u001b[0m  \u001b[0;31m# Add the trading strategy\u001b[0m\u001b[0;34m\u001b[0m\u001b[0;34m\u001b[0m\u001b[0m\n\u001b[1;32m     35\u001b[0m \u001b[0mcerebro\u001b[0m\u001b[0;34m.\u001b[0m\u001b[0mrun\u001b[0m\u001b[0;34m(\u001b[0m\u001b[0;34m)\u001b[0m  \u001b[0;31m# run it all\u001b[0m\u001b[0;34m\u001b[0m\u001b[0;34m\u001b[0m\u001b[0m\n\u001b[0;32m---> 36\u001b[0;31m \u001b[0mcerebro\u001b[0m\u001b[0;34m.\u001b[0m\u001b[0mplot\u001b[0m\u001b[0;34m(\u001b[0m\u001b[0;34m)\u001b[0m  \u001b[0;31m# and plot it with a single command\u001b[0m\u001b[0;34m\u001b[0m\u001b[0;34m\u001b[0m\u001b[0m\n\u001b[0m",
      "\u001b[0;32m~/opt/anaconda3/lib/python3.8/site-packages/backtrader/cerebro.py\u001b[0m in \u001b[0;36mplot\u001b[0;34m(self, plotter, numfigs, iplot, start, end, width, height, dpi, tight, use, **kwargs)\u001b[0m\n\u001b[1;32m    972\u001b[0m \u001b[0;34m\u001b[0m\u001b[0m\n\u001b[1;32m    973\u001b[0m         \u001b[0;32mif\u001b[0m \u001b[0;32mnot\u001b[0m \u001b[0mplotter\u001b[0m\u001b[0;34m:\u001b[0m\u001b[0;34m\u001b[0m\u001b[0;34m\u001b[0m\u001b[0m\n\u001b[0;32m--> 974\u001b[0;31m             \u001b[0;32mfrom\u001b[0m \u001b[0;34m.\u001b[0m \u001b[0;32mimport\u001b[0m \u001b[0mplot\u001b[0m\u001b[0;34m\u001b[0m\u001b[0;34m\u001b[0m\u001b[0m\n\u001b[0m\u001b[1;32m    975\u001b[0m             \u001b[0;32mif\u001b[0m \u001b[0mself\u001b[0m\u001b[0;34m.\u001b[0m\u001b[0mp\u001b[0m\u001b[0;34m.\u001b[0m\u001b[0moldsync\u001b[0m\u001b[0;34m:\u001b[0m\u001b[0;34m\u001b[0m\u001b[0;34m\u001b[0m\u001b[0m\n\u001b[1;32m    976\u001b[0m                 \u001b[0mplotter\u001b[0m \u001b[0;34m=\u001b[0m \u001b[0mplot\u001b[0m\u001b[0;34m.\u001b[0m\u001b[0mPlot_OldSync\u001b[0m\u001b[0;34m(\u001b[0m\u001b[0;34m**\u001b[0m\u001b[0mkwargs\u001b[0m\u001b[0;34m)\u001b[0m\u001b[0;34m\u001b[0m\u001b[0;34m\u001b[0m\u001b[0m\n",
      "\u001b[0;32m~/opt/anaconda3/lib/python3.8/site-packages/backtrader/plot/__init__.py\u001b[0m in \u001b[0;36m<module>\u001b[0;34m\u001b[0m\n\u001b[1;32m     40\u001b[0m \u001b[0;34m\u001b[0m\u001b[0m\n\u001b[1;32m     41\u001b[0m \u001b[0;34m\u001b[0m\u001b[0m\n\u001b[0;32m---> 42\u001b[0;31m \u001b[0;32mfrom\u001b[0m \u001b[0;34m.\u001b[0m\u001b[0mplot\u001b[0m \u001b[0;32mimport\u001b[0m \u001b[0mPlot\u001b[0m\u001b[0;34m,\u001b[0m \u001b[0mPlot_OldSync\u001b[0m\u001b[0;34m\u001b[0m\u001b[0;34m\u001b[0m\u001b[0m\n\u001b[0m\u001b[1;32m     43\u001b[0m \u001b[0;32mfrom\u001b[0m \u001b[0;34m.\u001b[0m\u001b[0mscheme\u001b[0m \u001b[0;32mimport\u001b[0m \u001b[0mPlotScheme\u001b[0m\u001b[0;34m\u001b[0m\u001b[0;34m\u001b[0m\u001b[0m\n",
      "\u001b[0;32m~/opt/anaconda3/lib/python3.8/site-packages/backtrader/plot/plot.py\u001b[0m in \u001b[0;36m<module>\u001b[0;34m\u001b[0m\n\u001b[1;32m     42\u001b[0m \u001b[0;32mfrom\u001b[0m \u001b[0;34m.\u001b[0m\u001b[0mfinance\u001b[0m \u001b[0;32mimport\u001b[0m \u001b[0mplot_candlestick\u001b[0m\u001b[0;34m,\u001b[0m \u001b[0mplot_ohlc\u001b[0m\u001b[0;34m,\u001b[0m \u001b[0mplot_volume\u001b[0m\u001b[0;34m,\u001b[0m \u001b[0mplot_lineonclose\u001b[0m\u001b[0;34m\u001b[0m\u001b[0;34m\u001b[0m\u001b[0m\n\u001b[1;32m     43\u001b[0m \u001b[0;32mfrom\u001b[0m \u001b[0;34m.\u001b[0m\u001b[0mformatters\u001b[0m \u001b[0;32mimport\u001b[0m \u001b[0;34m(\u001b[0m\u001b[0mMyVolFormatter\u001b[0m\u001b[0;34m,\u001b[0m \u001b[0mMyDateFormatter\u001b[0m\u001b[0;34m,\u001b[0m \u001b[0mgetlocator\u001b[0m\u001b[0;34m)\u001b[0m\u001b[0;34m\u001b[0m\u001b[0;34m\u001b[0m\u001b[0m\n\u001b[0;32m---> 44\u001b[0;31m \u001b[0;32mfrom\u001b[0m \u001b[0;34m.\u001b[0m \u001b[0;32mimport\u001b[0m \u001b[0mlocator\u001b[0m \u001b[0;32mas\u001b[0m \u001b[0mloc\u001b[0m\u001b[0;34m\u001b[0m\u001b[0;34m\u001b[0m\u001b[0m\n\u001b[0m\u001b[1;32m     45\u001b[0m \u001b[0;32mfrom\u001b[0m \u001b[0;34m.\u001b[0m\u001b[0mmulticursor\u001b[0m \u001b[0;32mimport\u001b[0m \u001b[0mMultiCursor\u001b[0m\u001b[0;34m\u001b[0m\u001b[0;34m\u001b[0m\u001b[0m\n\u001b[1;32m     46\u001b[0m \u001b[0;32mfrom\u001b[0m \u001b[0;34m.\u001b[0m\u001b[0mscheme\u001b[0m \u001b[0;32mimport\u001b[0m \u001b[0mPlotScheme\u001b[0m\u001b[0;34m\u001b[0m\u001b[0;34m\u001b[0m\u001b[0m\n",
      "\u001b[0;32m~/opt/anaconda3/lib/python3.8/site-packages/backtrader/plot/locator.py\u001b[0m in \u001b[0;36m<module>\u001b[0;34m\u001b[0m\n\u001b[1;32m     33\u001b[0m \u001b[0;32mfrom\u001b[0m \u001b[0mmatplotlib\u001b[0m\u001b[0;34m.\u001b[0m\u001b[0mdates\u001b[0m \u001b[0;32mimport\u001b[0m \u001b[0mAutoDateFormatter\u001b[0m \u001b[0;32mas\u001b[0m \u001b[0mADFormatter\u001b[0m\u001b[0;34m\u001b[0m\u001b[0;34m\u001b[0m\u001b[0m\n\u001b[1;32m     34\u001b[0m \u001b[0;34m\u001b[0m\u001b[0m\n\u001b[0;32m---> 35\u001b[0;31m from matplotlib.dates import (HOURS_PER_DAY, MIN_PER_HOUR, SEC_PER_MIN,\n\u001b[0m\u001b[1;32m     36\u001b[0m                               \u001b[0mMONTHS_PER_YEAR\u001b[0m\u001b[0;34m,\u001b[0m \u001b[0mDAYS_PER_WEEK\u001b[0m\u001b[0;34m,\u001b[0m\u001b[0;34m\u001b[0m\u001b[0;34m\u001b[0m\u001b[0m\n\u001b[1;32m     37\u001b[0m                               \u001b[0mSEC_PER_HOUR\u001b[0m\u001b[0;34m,\u001b[0m \u001b[0mSEC_PER_DAY\u001b[0m\u001b[0;34m,\u001b[0m\u001b[0;34m\u001b[0m\u001b[0;34m\u001b[0m\u001b[0m\n",
      "\u001b[0;31mImportError\u001b[0m: cannot import name 'warnings' from 'matplotlib.dates' (/Users/taikhanghao/opt/anaconda3/lib/python3.8/site-packages/matplotlib/dates.py)"
     ]
    }
   ],
   "source": [
    "from datetime import datetime\n",
    "import backtrader as bt\n",
    "\n",
    "# Create a subclass of Strategy to define the indicators and logic\n",
    "\n",
    "class SmaCross(bt.Strategy):\n",
    "    # list of parameters which are configurable for the strategy\n",
    "    params = dict(\n",
    "        pfast=10,  # period for the fast moving average\n",
    "        pslow=30   # period for the slow moving average\n",
    "    )\n",
    "\n",
    "    def __init__(self):\n",
    "        sma1 = bt.ind.SMA(period=self.p.pfast)  # fast moving average\n",
    "        sma2 = bt.ind.SMA(period=self.p.pslow)  # slow moving average\n",
    "        self.crossover = bt.ind.CrossOver(sma1, sma2)  # crossover signal\n",
    "\n",
    "    def next(self):\n",
    "        if not self.position:  # not in the market\n",
    "            if self.crossover > 0:  # if fast crosses slow to the upside\n",
    "                self.buy()  # enter long\n",
    "\n",
    "        elif self.crossover < 0:  # in the market & cross to the downside\n",
    "            self.close()  # close long position\n",
    "\n",
    "\n",
    "cerebro = bt.Cerebro()  # create a \"Cerebro\" engine instance\n",
    "\n",
    "# Create a data feed\n",
    "data = bt.feeds.YahooFinanceCSVData(dataname='AAPL.csv')\n",
    "\n",
    "cerebro.adddata(data)  # Add the data feed\n",
    "\n",
    "cerebro.addstrategy(SmaCross)  # Add the trading strategy\n",
    "cerebro.run()  # run it all\n",
    "cerebro.plot()  # and plot it with a single command"
   ]
  },
  {
   "cell_type": "code",
   "execution_count": 6,
   "metadata": {},
   "outputs": [
    {
     "name": "stdout",
     "output_type": "stream",
     "text": [
      "Collecting matplotlib==3.2.2\n",
      "  Downloading matplotlib-3.2.2-cp38-cp38-macosx_10_9_x86_64.whl (12.5 MB)\n",
      "\u001b[K     |████████████████████████████████| 12.5 MB 5.8 MB/s eta 0:00:01\n",
      "\u001b[?25hRequirement already satisfied: kiwisolver>=1.0.1 in /Users/taikhanghao/opt/anaconda3/lib/python3.8/site-packages (from matplotlib==3.2.2) (1.3.0)\n",
      "Requirement already satisfied: python-dateutil>=2.1 in /Users/taikhanghao/opt/anaconda3/lib/python3.8/site-packages (from matplotlib==3.2.2) (2.8.1)\n",
      "Requirement already satisfied: cycler>=0.10 in /Users/taikhanghao/opt/anaconda3/lib/python3.8/site-packages (from matplotlib==3.2.2) (0.10.0)\n",
      "Requirement already satisfied: numpy>=1.11 in /Users/taikhanghao/opt/anaconda3/lib/python3.8/site-packages (from matplotlib==3.2.2) (1.19.2)\n",
      "Requirement already satisfied: pyparsing!=2.0.4,!=2.1.2,!=2.1.6,>=2.0.1 in /Users/taikhanghao/opt/anaconda3/lib/python3.8/site-packages (from matplotlib==3.2.2) (2.4.7)\n",
      "Requirement already satisfied: six>=1.5 in /Users/taikhanghao/opt/anaconda3/lib/python3.8/site-packages (from python-dateutil>=2.1->matplotlib==3.2.2) (1.15.0)\n",
      "Installing collected packages: matplotlib\n",
      "  Attempting uninstall: matplotlib\n",
      "    Found existing installation: matplotlib 3.3.2\n",
      "    Uninstalling matplotlib-3.3.2:\n",
      "      Successfully uninstalled matplotlib-3.3.2\n",
      "Successfully installed matplotlib-3.2.2\n",
      "Note: you may need to restart the kernel to use updated packages.\n"
     ]
    }
   ],
   "source": [
    "pip install matplotlib==3.2.2"
   ]
  },
  {
   "cell_type": "code",
   "execution_count": 1,
   "metadata": {},
   "outputs": [],
   "source": [
    "import numpy as np\n",
    "import pandas as pd\n",
    "import yfinance as yf"
   ]
  },
  {
   "cell_type": "code",
   "execution_count": 2,
   "metadata": {},
   "outputs": [],
   "source": [
    "RISKY_ASSET = 'MSFT' \n",
    "START_DATE = '2019-01-01' \n",
    "END_DATE = '2019-07-31'"
   ]
  },
  {
   "cell_type": "code",
   "execution_count": 3,
   "metadata": {},
   "outputs": [
    {
     "name": "stdout",
     "output_type": "stream",
     "text": [
      "[*********************100%***********************]  1 of 1 completed\n"
     ]
    }
   ],
   "source": [
    "df = yf.download(RISKY_ASSET, start=START_DATE, end=END_DATE, adjusted=True)"
   ]
  },
  {
   "cell_type": "code",
   "execution_count": 4,
   "metadata": {},
   "outputs": [
    {
     "name": "stdout",
     "output_type": "stream",
     "text": [
      "Average return: 0.24%\n"
     ]
    },
    {
     "data": {
      "text/plain": [
       "<matplotlib.axes._subplots.AxesSubplot at 0x7fa40f367970>"
      ]
     },
     "execution_count": 4,
     "metadata": {},
     "output_type": "execute_result"
    },
    {
     "data": {
      "image/png": "[encoded data removed]",
      "text/plain": [
       "<Figure size 432x288 with 1 Axes>"
      ]
     },
     "metadata": {
      "needs_background": "light"
     },
     "output_type": "display_data"
    }
   ],
   "source": [
    "adj_close = df['Adj Close']\n",
    "returns = adj_close.pct_change().dropna()\n",
    "print(f'Average return: {100 * returns.mean():.2f}%') \n",
    "returns.plot(title=f'{RISKY_ASSET} returns: {START_DATE} - {END_DATE}')\n"
   ]
  },
  {
   "cell_type": "code",
   "execution_count": 5,
   "metadata": {},
   "outputs": [],
   "source": [
    "train = returns['2019-01-01':'2019-06-30'] \n",
    "test = returns['2019-07-01':'2019-07-31']"
   ]
  },
  {
   "cell_type": "code",
   "execution_count": 9,
   "metadata": {},
   "outputs": [],
   "source": [
    "def simulate_gbm(s_0, mu, sigma, n_sims, T, N, antithetic_var=False):\n",
    "    dt = T/N\n",
    "    if antithetic_var:\n",
    "        dW_ant = np.random.normal(scale = np.sqrt(dt),size=(int(n_sims/2), N + 1)) \n",
    "        dW = np.concatenate((dW_ant, -dW_ant), axis=0)\n",
    "    else:\n",
    "        dW = np.random.normal(scale = np.sqrt(dt), size=(n_sims, N + 1))\n",
    "    S_t = s_0 * np.exp(np.cumsum((mu - 0.5 * sigma ** 2) * dt + sigma * dW, axis=1))\n",
    "    S_t[:, 0] = s_0 \n",
    "    return S_t"
   ]
  },
  {
   "cell_type": "code",
   "execution_count": 10,
   "metadata": {},
   "outputs": [],
   "source": [
    "import numpy as np\n",
    "from scipy.stats import norm"
   ]
  },
  {
   "cell_type": "code",
   "execution_count": 12,
   "metadata": {},
   "outputs": [],
   "source": [
    "S_0 = 100\n",
    "K = 100\n",
    "r = 0.05\n",
    "sigma = 0.50\n",
    "T = 1 # 1 year\n",
    "N = 252 # 252 days in a year\n",
    "dt = T / N # time step\n",
    "n_sims = 10 ** 6 \n",
    "discount_factor = np.exp(-r * T)"
   ]
  },
  {
   "cell_type": "code",
   "execution_count": 14,
   "metadata": {},
   "outputs": [],
   "source": [
    "def black_scholes_analytical(S_0, K, T, r, sigma, type='call'): \n",
    "    d1 = (np.log(S_0/K) + (r + 0.5 * sigma**2) * T) / (sigma * np.sqrt(T)) \n",
    "    d2 = (np.log(S_0/K) + (r - 0.5 * sigma**2) * T) /(sigma * np.sqrt(T))\n",
    "    if type == 'call':\n",
    "        val = (S_0*norm.cdf(d1, 0, 1)-K*np.exp(-r*T)*norm.cdf(d2, 0, 1)) \n",
    "    elif type == 'put':\n",
    "        val = (K*np.exp(-r*T)*norm.cdf(-d2, 0, 1)-S_0 *norm.cdf(-d1, 0, 1))\n",
    "    return val"
   ]
  },
  {
   "cell_type": "code",
   "execution_count": 15,
   "metadata": {},
   "outputs": [
    {
     "data": {
      "text/plain": [
       "21.79260421286685"
      ]
     },
     "execution_count": 15,
     "metadata": {},
     "output_type": "execute_result"
    }
   ],
   "source": [
    "black_scholes_analytical(S_0=S_0, K=K, T=T, r=r, sigma=sigma, type='call')"
   ]
  },
  {
   "cell_type": "code",
   "execution_count": 25,
   "metadata": {},
   "outputs": [],
   "source": [
    "N_SIMS=100000"
   ]
  },
  {
   "cell_type": "code",
   "execution_count": 26,
   "metadata": {},
   "outputs": [],
   "source": [
    "gbm_sims = simulate_gbm(s_0=S_0, mu=r, sigma=sigma, n_sims=N_SIMS, T=T, N=N)"
   ]
  },
  {
   "cell_type": "code",
   "execution_count": 27,
   "metadata": {},
   "outputs": [],
   "source": [
    "premium = discount_factor * np.average(np.maximum(0, gbm_sims[:, -1] - K))"
   ]
  },
  {
   "cell_type": "code",
   "execution_count": 28,
   "metadata": {},
   "outputs": [
    {
     "data": {
      "text/plain": [
       "22.184659835900842"
      ]
     },
     "execution_count": 28,
     "metadata": {},
     "output_type": "execute_result"
    }
   ],
   "source": [
    "premium"
   ]
  },
  {
   "cell_type": "markdown",
   "metadata": {},
   "source": [
    "## Estimating value-at-risk using Monte Carlo"
   ]
  },
  {
   "cell_type": "code",
   "execution_count": 1,
   "metadata": {},
   "outputs": [],
   "source": [
    "# Value-at-risk(VaR) measures the risk associate with a position\n",
    "# VaR reports the worst expected loss at a given level of confidence\n",
    "# For example, 1-day 95% VaR of our portfolio is $1000. This means 95% \n",
    "# of the time, we will not lose more than $1000 by holding our portfolio over one day"
   ]
  },
  {
   "cell_type": "code",
   "execution_count": 2,
   "metadata": {},
   "outputs": [],
   "source": [
    "# There are many ways to calculate VaR, but we will use Monte Carlo simulations"
   ]
  },
  {
   "cell_type": "code",
   "execution_count": 1,
   "metadata": {},
   "outputs": [],
   "source": [
    "\n",
    "            import numpy as np\n",
    "            import pandas as pd\n",
    "            import yfinance as yf\n",
    "            import seaborn as sns"
   ]
  },
  {
   "cell_type": "code",
   "execution_count": 2,
   "metadata": {},
   "outputs": [],
   "source": [
    "RISKY_ASSETS = ['GOOG', 'FB'] \n",
    "SHARES = [5, 5] # Number of shares for each stock \n",
    "START_DATE = '2018-01-01' \n",
    "END_DATE = '2018-12-31'\n",
    "T= 1 # Day in the future \n",
    "N_SIMS = 10 ** 5 # Number of simulations "
   ]
  },
  {
   "cell_type": "code",
   "execution_count": 3,
   "metadata": {},
   "outputs": [
    {
     "name": "stdout",
     "output_type": "stream",
     "text": [
      "[*********************100%***********************]  2 of 2 completed\n"
     ]
    }
   ],
   "source": [
    "df = yf.download(RISKY_ASSETS, start=START_DATE, end=END_DATE, adjusted=True)"
   ]
  },
  {
   "cell_type": "code",
   "execution_count": 4,
   "metadata": {},
   "outputs": [
    {
     "data": {
      "text/plain": [
       "<matplotlib.axes._subplots.AxesSubplot at 0x7fcf5df955e0>"
      ]
     },
     "execution_count": 4,
     "metadata": {},
     "output_type": "execute_result"
    },
    {
     "data": {
      "image/png": "[encoded data removed]",
      "text/plain": [
       "<Figure size 432x288 with 1 Axes>"
      ]
     },
     "metadata": {
      "needs_background": "light"
     },
     "output_type": "display_data"
    }
   ],
   "source": [
    "adj_close = df['Adj Close']\n",
    "returns = adj_close.pct_change().dropna()\n",
    "plot_title = f'{\" vs. \".join(RISKY_ASSETS)} returns: {START_DATE} - {END_DATE}'\n",
    "returns.plot(title=plot_title)\n",
    "\n"
   ]
  },
  {
   "cell_type": "code",
   "execution_count": 9,
   "metadata": {},
   "outputs": [
    {
     "data": {
      "text/plain": [
       "0.5255627330301897"
      ]
     },
     "execution_count": 9,
     "metadata": {},
     "output_type": "execute_result"
    }
   ],
   "source": [
    "# The correlation between the two series is\n",
    "adj_close.corr().iloc[0,1]"
   ]
  },
  {
   "cell_type": "code",
   "execution_count": null,
   "metadata": {},
   "outputs": [],
   "source": [
    "# For calculating VaR, we need to account for our assets may be correlated "
   ]
  },
  {
   "cell_type": "code",
   "execution_count": 11,
   "metadata": {},
   "outputs": [],
   "source": [
    "cov_mat = returns.cov()"
   ]
  },
  {
   "cell_type": "code",
   "execution_count": 12,
   "metadata": {},
   "outputs": [],
   "source": [
    "# Perform the Cholesky decomposition of the covariance matrix:\n",
    "chol_mat = np.linalg.cholesky(cov_mat)"
   ]
  },
  {
   "cell_type": "code",
   "execution_count": 15,
   "metadata": {},
   "outputs": [],
   "source": [
    "# Draw the correlated random numbers from the Standard Normal distribution\n",
    "rv = np.random.normal(size=(N_SIMS, len(RISKY_ASSETS))) # Create a random normal of sample size 10**5 x 2 \n",
    "correlated_rv = np.transpose(np.matmul(chol_mat, np.transpose(rv))) # added correlation to the generated random variables."
   ]
  },
  {
   "cell_type": "code",
   "execution_count": 19,
   "metadata": {},
   "outputs": [],
   "source": [
    "# Define the metrics that will be used for simulations:\n",
    "r = np.mean(returns, axis=0).values # Mean return\n",
    "sigma = np.std(returns, axis=0).values # Standard deviation \n",
    "S_0 = adj_close.values[-1, :] # Last stock prices \n",
    "P_0 = np.sum(SHARES * S_0) # Initial portfolio value"
   ]
  },
  {
   "cell_type": "code",
   "execution_count": 25,
   "metadata": {},
   "outputs": [],
   "source": [
    "# Calculate the terminal price of the considered stocks:\n",
    "S_T = S_0 * np.exp((r - 0.5 * sigma ** 2) * T +sigma * np.sqrt(T) * correlated_rv)"
   ]
  },
  {
   "cell_type": "code",
   "execution_count": 26,
   "metadata": {},
   "outputs": [
    {
     "data": {
      "text/plain": [
       "array([[133.1497686 ,  51.86295936],\n",
       "       [133.10697376,  51.85682628],\n",
       "       [132.90809312,  51.83334654],\n",
       "       ...,\n",
       "       [133.07307594,  51.83617407],\n",
       "       [133.1112425 ,  51.87250955],\n",
       "       [133.12284123,  51.838806  ]])"
      ]
     },
     "execution_count": 26,
     "metadata": {},
     "output_type": "execute_result"
    }
   ],
   "source": [
    "S_T"
   ]
  },
  {
   "cell_type": "code",
   "execution_count": 27,
   "metadata": {},
   "outputs": [],
   "source": [
    "# Calculate the terminal portfolio value and the portfolio returns:\n",
    "P_T = np.sum(SHARES * S_T, axis=1) \n",
    "P_diff = P_T - P_0"
   ]
  },
  {
   "cell_type": "code",
   "execution_count": 43,
   "metadata": {},
   "outputs": [
    {
     "data": {
      "text/plain": [
       "array([-0.20634543, -0.45098499, -1.56278691, ..., -0.72373513,\n",
       "       -0.35122493, -0.46174906])"
      ]
     },
     "execution_count": 43,
     "metadata": {},
     "output_type": "execute_result"
    }
   ],
   "source": [
    "P_diff"
   ]
  },
  {
   "cell_type": "code",
   "execution_count": 46,
   "metadata": {},
   "outputs": [
    {
     "data": {
      "text/plain": [
       "[(0.01, -2.4906937420986774),\n",
       " (0.1, -2.2193560555835803),\n",
       " (1.0, -1.8657877033485306)]"
      ]
     },
     "execution_count": 46,
     "metadata": {},
     "output_type": "execute_result"
    }
   ],
   "source": [
    "list(zip(percentiles, var))"
   ]
  },
  {
   "cell_type": "code",
   "execution_count": 29,
   "metadata": {},
   "outputs": [
    {
     "name": "stdout",
     "output_type": "stream",
     "text": [
      "1-day VaR with 99.99% confidence: 2.49$\n",
      "1-day VaR with 99.9% confidence: 2.22$\n",
      "1-day VaR with 99.0% confidence: 1.87$\n"
     ]
    }
   ],
   "source": [
    "# Calculate the VaR for the selected confidence levels:\n",
    "P_diff_sorted = np.sort(P_diff)\n",
    "percentiles = [0.01, 0.1, 1.]\n",
    "var = np.percentile(P_diff_sorted, percentiles)\n",
    "for x, y in zip(percentiles, var):\n",
    "    print(f'1-day VaR with {100-x}% confidence: {-y:.2f}$')"
   ]
  },
  {
   "cell_type": "code",
   "execution_count": 48,
   "metadata": {},
   "outputs": [
    {
     "data": {
      "image/png": "[encoded data removed]",
      "text/plain": [
       "<Figure size 432x288 with 1 Axes>"
      ]
     },
     "metadata": {
      "needs_background": "light"
     },
     "output_type": "display_data"
    }
   ],
   "source": [
    "ax = sns.distplot(P_diff, kde=False) \n",
    "ax.set_title('''Distribution of possible 1-day changes in portfolio value\n",
    "                        1-day 99% VaR''', fontsize=16) \n",
    "ax.axvline(var[2], 0, 10000);"
   ]
  },
  {
   "cell_type": "code",
   "execution_count": null,
   "metadata": {},
   "outputs": [],
   "source": [
    "# Visualize data\n",
    "# Since the unit is different, we use two axis to demonstrate the data \n",
    "\n",
    "fig, ax1 = plt.subplots(figsize=(10, 5))\n",
    "\n",
    "\n",
    "ax2 = ax1.twinx()\n",
    "ax1.plot(closePriceSP['SWN'], 'r-',label='SWN')\n",
    "ax1.plot(closePriceSP['CRK'], 'g-', label = 'CRK')\n",
    "ax1.plot(closePriceSP['NC'], 'y-', label = 'NC')\n",
    "ax2.plot(closePriceSP['^GSPC'], 'b-', label = 'S&P')\n",
    "\n",
    "\n",
    "ax1.set_xlabel('Date')\n",
    "ax1.set_ylabel('Stock', color='g')\n",
    "ax2.set_ylabel('Index', color='b')\n",
    "\n",
    "ax1.legend()\n",
    "ax2.legend()\n",
    "plt.show()"
   ]
  },
  {
   "cell_type": "markdown",
   "metadata": {},
   "source": [
    "### Williams %R"
   ]
  },
  {
   "cell_type": "code",
   "execution_count": 13,
   "metadata": {},
   "outputs": [],
   "source": [
    "import numpy as np\n",
    "import pandas as pd\n",
    "import yfinance as yf\n",
    "import matplotlib.pyplot as plt"
   ]
  },
  {
   "cell_type": "code",
   "execution_count": 2,
   "metadata": {},
   "outputs": [],
   "source": [
    "plt.rcParams['figure.figsize'] = (20,10)\n",
    "plt.style.use('fivethirtyeight')"
   ]
  },
  {
   "cell_type": "code",
   "execution_count": 7,
   "metadata": {},
   "outputs": [
    {
     "name": "stdout",
     "output_type": "stream",
     "text": [
      "[*********************100%***********************]  1 of 1 completed\n"
     ]
    }
   ],
   "source": [
    "nflx = yf.download(\"AAPL\",start='2022-01-01',end='2022-12-31')"
   ]
  },
  {
   "cell_type": "code",
   "execution_count": 8,
   "metadata": {},
   "outputs": [
    {
     "data": {
      "text/html": [
       "<div>\n",
       "<style scoped>\n",
       "    .dataframe tbody tr th:only-of-type {\n",
       "        vertical-align: middle;\n",
       "    }\n",
       "\n",
       "    .dataframe tbody tr th {\n",
       "        vertical-align: top;\n",
       "    }\n",
       "\n",
       "    .dataframe thead th {\n",
       "        text-align: right;\n",
       "    }\n",
       "</style>\n",
       "<table border=\"1\" class=\"dataframe\">\n",
       "  <thead>\n",
       "    <tr style=\"text-align: right;\">\n",
       "      <th></th>\n",
       "      <th>Open</th>\n",
       "      <th>High</th>\n",
       "      <th>Low</th>\n",
       "      <th>Close</th>\n",
       "      <th>Adj Close</th>\n",
       "      <th>Volume</th>\n",
       "    </tr>\n",
       "    <tr>\n",
       "      <th>Date</th>\n",
       "      <th></th>\n",
       "      <th></th>\n",
       "      <th></th>\n",
       "      <th></th>\n",
       "      <th></th>\n",
       "      <th></th>\n",
       "    </tr>\n",
       "  </thead>\n",
       "  <tbody>\n",
       "    <tr>\n",
       "      <th>2022-01-03</th>\n",
       "      <td>177.830002</td>\n",
       "      <td>182.880005</td>\n",
       "      <td>177.710007</td>\n",
       "      <td>182.009995</td>\n",
       "      <td>180.959732</td>\n",
       "      <td>104487900</td>\n",
       "    </tr>\n",
       "    <tr>\n",
       "      <th>2022-01-04</th>\n",
       "      <td>182.630005</td>\n",
       "      <td>182.940002</td>\n",
       "      <td>179.119995</td>\n",
       "      <td>179.699997</td>\n",
       "      <td>178.663086</td>\n",
       "      <td>99310400</td>\n",
       "    </tr>\n",
       "    <tr>\n",
       "      <th>2022-01-05</th>\n",
       "      <td>179.610001</td>\n",
       "      <td>180.169998</td>\n",
       "      <td>174.639999</td>\n",
       "      <td>174.919998</td>\n",
       "      <td>173.910645</td>\n",
       "      <td>94537600</td>\n",
       "    </tr>\n",
       "    <tr>\n",
       "      <th>2022-01-06</th>\n",
       "      <td>172.699997</td>\n",
       "      <td>175.300003</td>\n",
       "      <td>171.639999</td>\n",
       "      <td>172.000000</td>\n",
       "      <td>171.007523</td>\n",
       "      <td>96904000</td>\n",
       "    </tr>\n",
       "    <tr>\n",
       "      <th>2022-01-07</th>\n",
       "      <td>172.889999</td>\n",
       "      <td>174.139999</td>\n",
       "      <td>171.029999</td>\n",
       "      <td>172.169998</td>\n",
       "      <td>171.176544</td>\n",
       "      <td>86709100</td>\n",
       "    </tr>\n",
       "  </tbody>\n",
       "</table>\n",
       "</div>"
      ],
      "text/plain": [
       "                  Open        High         Low       Close   Adj Close  \\\n",
       "Date                                                                     \n",
       "2022-01-03  177.830002  182.880005  177.710007  182.009995  180.959732   \n",
       "2022-01-04  182.630005  182.940002  179.119995  179.699997  178.663086   \n",
       "2022-01-05  179.610001  180.169998  174.639999  174.919998  173.910645   \n",
       "2022-01-06  172.699997  175.300003  171.639999  172.000000  171.007523   \n",
       "2022-01-07  172.889999  174.139999  171.029999  172.169998  171.176544   \n",
       "\n",
       "               Volume  \n",
       "Date                   \n",
       "2022-01-03  104487900  \n",
       "2022-01-04   99310400  \n",
       "2022-01-05   94537600  \n",
       "2022-01-06   96904000  \n",
       "2022-01-07   86709100  "
      ]
     },
     "execution_count": 8,
     "metadata": {},
     "output_type": "execute_result"
    }
   ],
   "source": [
    "nflx.head()"
   ]
  },
  {
   "cell_type": "code",
   "execution_count": 9,
   "metadata": {},
   "outputs": [
    {
     "data": {
      "text/html": [
       "<div>\n",
       "<style scoped>\n",
       "    .dataframe tbody tr th:only-of-type {\n",
       "        vertical-align: middle;\n",
       "    }\n",
       "\n",
       "    .dataframe tbody tr th {\n",
       "        vertical-align: top;\n",
       "    }\n",
       "\n",
       "    .dataframe thead th {\n",
       "        text-align: right;\n",
       "    }\n",
       "</style>\n",
       "<table border=\"1\" class=\"dataframe\">\n",
       "  <thead>\n",
       "    <tr style=\"text-align: right;\">\n",
       "      <th></th>\n",
       "      <th>Open</th>\n",
       "      <th>High</th>\n",
       "      <th>Low</th>\n",
       "      <th>Close</th>\n",
       "      <th>Adj Close</th>\n",
       "      <th>Volume</th>\n",
       "      <th>wr_14</th>\n",
       "    </tr>\n",
       "    <tr>\n",
       "      <th>Date</th>\n",
       "      <th></th>\n",
       "      <th></th>\n",
       "      <th></th>\n",
       "      <th></th>\n",
       "      <th></th>\n",
       "      <th></th>\n",
       "      <th></th>\n",
       "    </tr>\n",
       "  </thead>\n",
       "  <tbody>\n",
       "    <tr>\n",
       "      <th>2022-01-21</th>\n",
       "      <td>164.419998</td>\n",
       "      <td>166.330002</td>\n",
       "      <td>162.300003</td>\n",
       "      <td>162.410004</td>\n",
       "      <td>161.472839</td>\n",
       "      <td>122848900</td>\n",
       "      <td>-104.007576</td>\n",
       "    </tr>\n",
       "    <tr>\n",
       "      <th>2022-01-24</th>\n",
       "      <td>160.020004</td>\n",
       "      <td>162.300003</td>\n",
       "      <td>154.699997</td>\n",
       "      <td>161.619995</td>\n",
       "      <td>160.687393</td>\n",
       "      <td>162294600</td>\n",
       "      <td>-78.798176</td>\n",
       "    </tr>\n",
       "    <tr>\n",
       "      <th>2022-01-25</th>\n",
       "      <td>158.979996</td>\n",
       "      <td>162.759995</td>\n",
       "      <td>157.020004</td>\n",
       "      <td>159.779999</td>\n",
       "      <td>158.858032</td>\n",
       "      <td>115798400</td>\n",
       "      <td>-83.674774</td>\n",
       "    </tr>\n",
       "    <tr>\n",
       "      <th>2022-01-26</th>\n",
       "      <td>163.500000</td>\n",
       "      <td>164.389999</td>\n",
       "      <td>157.820007</td>\n",
       "      <td>159.690002</td>\n",
       "      <td>158.768539</td>\n",
       "      <td>108275300</td>\n",
       "      <td>-81.901498</td>\n",
       "    </tr>\n",
       "    <tr>\n",
       "      <th>2022-01-27</th>\n",
       "      <td>162.449997</td>\n",
       "      <td>163.839996</td>\n",
       "      <td>158.279999</td>\n",
       "      <td>159.220001</td>\n",
       "      <td>158.301270</td>\n",
       "      <td>121954600</td>\n",
       "      <td>-83.980101</td>\n",
       "    </tr>\n",
       "    <tr>\n",
       "      <th>...</th>\n",
       "      <td>...</td>\n",
       "      <td>...</td>\n",
       "      <td>...</td>\n",
       "      <td>...</td>\n",
       "      <td>...</td>\n",
       "      <td>...</td>\n",
       "      <td>...</td>\n",
       "    </tr>\n",
       "    <tr>\n",
       "      <th>2022-11-28</th>\n",
       "      <td>145.139999</td>\n",
       "      <td>146.639999</td>\n",
       "      <td>143.380005</td>\n",
       "      <td>144.220001</td>\n",
       "      <td>144.220001</td>\n",
       "      <td>69246000</td>\n",
       "      <td>-49.315764</td>\n",
       "    </tr>\n",
       "    <tr>\n",
       "      <th>2022-11-29</th>\n",
       "      <td>144.289993</td>\n",
       "      <td>144.809998</td>\n",
       "      <td>140.350006</td>\n",
       "      <td>141.169998</td>\n",
       "      <td>141.169998</td>\n",
       "      <td>83763800</td>\n",
       "      <td>-65.368411</td>\n",
       "    </tr>\n",
       "    <tr>\n",
       "      <th>2022-11-30</th>\n",
       "      <td>141.399994</td>\n",
       "      <td>148.720001</td>\n",
       "      <td>140.550003</td>\n",
       "      <td>148.029999</td>\n",
       "      <td>148.029999</td>\n",
       "      <td>111224400</td>\n",
       "      <td>-39.460603</td>\n",
       "    </tr>\n",
       "    <tr>\n",
       "      <th>2022-12-01</th>\n",
       "      <td>148.210007</td>\n",
       "      <td>149.130005</td>\n",
       "      <td>146.610001</td>\n",
       "      <td>148.309998</td>\n",
       "      <td>148.309998</td>\n",
       "      <td>71250400</td>\n",
       "      <td>-39.879174</td>\n",
       "    </tr>\n",
       "    <tr>\n",
       "      <th>2022-12-02</th>\n",
       "      <td>145.960007</td>\n",
       "      <td>148.000000</td>\n",
       "      <td>145.649994</td>\n",
       "      <td>147.809998</td>\n",
       "      <td>147.809998</td>\n",
       "      <td>65421400</td>\n",
       "      <td>-43.655612</td>\n",
       "    </tr>\n",
       "  </tbody>\n",
       "</table>\n",
       "<p>219 rows × 7 columns</p>\n",
       "</div>"
      ],
      "text/plain": [
       "                  Open        High         Low       Close   Adj Close  \\\n",
       "Date                                                                     \n",
       "2022-01-21  164.419998  166.330002  162.300003  162.410004  161.472839   \n",
       "2022-01-24  160.020004  162.300003  154.699997  161.619995  160.687393   \n",
       "2022-01-25  158.979996  162.759995  157.020004  159.779999  158.858032   \n",
       "2022-01-26  163.500000  164.389999  157.820007  159.690002  158.768539   \n",
       "2022-01-27  162.449997  163.839996  158.279999  159.220001  158.301270   \n",
       "...                ...         ...         ...         ...         ...   \n",
       "2022-11-28  145.139999  146.639999  143.380005  144.220001  144.220001   \n",
       "2022-11-29  144.289993  144.809998  140.350006  141.169998  141.169998   \n",
       "2022-11-30  141.399994  148.720001  140.550003  148.029999  148.029999   \n",
       "2022-12-01  148.210007  149.130005  146.610001  148.309998  148.309998   \n",
       "2022-12-02  145.960007  148.000000  145.649994  147.809998  147.809998   \n",
       "\n",
       "               Volume       wr_14  \n",
       "Date                               \n",
       "2022-01-21  122848900 -104.007576  \n",
       "2022-01-24  162294600  -78.798176  \n",
       "2022-01-25  115798400  -83.674774  \n",
       "2022-01-26  108275300  -81.901498  \n",
       "2022-01-27  121954600  -83.980101  \n",
       "...               ...         ...  \n",
       "2022-11-28   69246000  -49.315764  \n",
       "2022-11-29   83763800  -65.368411  \n",
       "2022-11-30  111224400  -39.460603  \n",
       "2022-12-01   71250400  -39.879174  \n",
       "2022-12-02   65421400  -43.655612  \n",
       "\n",
       "[219 rows x 7 columns]"
      ]
     },
     "execution_count": 9,
     "metadata": {},
     "output_type": "execute_result"
    }
   ],
   "source": [
    "# Loopback period 14 days\n",
    "\n",
    "def get_wr(high, low, close, lookback):\n",
    "    highh = high.rolling(lookback).max() \n",
    "    lowl = low.rolling(lookback).min()\n",
    "    wr = -100 * ((highh - close) / (highh - lowl))\n",
    "    return wr\n",
    "\n",
    "nflx['wr_14'] = get_wr(nflx['High'], nflx['Low'], nflx['Adj Close'], 14)\n",
    "nflx = nflx.dropna()\n",
    "nflx"
   ]
  },
  {
   "cell_type": "code",
   "execution_count": 10,
   "metadata": {},
   "outputs": [
    {
     "data": {
      "image/png": "[encoded data removed]",
      "text/plain": [
       "<Figure size 1440x720 with 2 Axes>"
      ]
     },
     "metadata": {},
     "output_type": "display_data"
    }
   ],
   "source": [
    "ax1 = plt.subplot2grid((11,1), (0,0), rowspan = 5, colspan = 1)\n",
    "ax2 = plt.subplot2grid((11,1), (6,0), rowspan = 5, colspan = 1)\n",
    "ax1.plot(nflx['Adj Close'], linewidth = 2)\n",
    "ax1.set_title('NFLX CLOSING PRICE')\n",
    "ax2.plot(nflx['wr_14'], color = 'orange', linewidth = 2)\n",
    "ax2.axhline(-20, linewidth = 1.5, linestyle = '--', color = 'grey')\n",
    "ax2.axhline(-80, linewidth = 1.5, linestyle = '--', color = 'grey')\n",
    "ax2.set_title('NFLX WILLIAMS %R 14')\n",
    "plt.show()"
   ]
  },
  {
   "cell_type": "code",
   "execution_count": 11,
   "metadata": {},
   "outputs": [
    {
     "data": {
      "text/plain": [
       "219"
      ]
     },
     "execution_count": 11,
     "metadata": {},
     "output_type": "execute_result"
    }
   ],
   "source": [
    "len(nflx['wr_14'])"
   ]
  },
  {
   "cell_type": "code",
   "execution_count": 14,
   "metadata": {},
   "outputs": [],
   "source": [
    "def implement_wr_strategy(prices, wr):    \n",
    "    buy_price = []\n",
    "    sell_price = []\n",
    "    wr_signal = []\n",
    "    signal = 0\n",
    "\n",
    "    for i in range(len(wr)):\n",
    "        if wr[i-1] > -80 and wr[i] < -80:    # Buy when previous > -80\n",
    "            if signal != 1:\n",
    "                buy_price.append(prices[i])\n",
    "                sell_price.append(np.nan)\n",
    "                signal = 1\n",
    "                wr_signal.append(signal)\n",
    "            else:\n",
    "                buy_price.append(np.nan)\n",
    "                sell_price.append(np.nan)\n",
    "                wr_signal.append(0)\n",
    "        elif wr[i-1] < -20 and wr[i] > -20:  # Sell when previous < -20\n",
    "            if signal != -1:\n",
    "                buy_price.append(np.nan)\n",
    "                sell_price.append(prices[i])\n",
    "                signal = -1\n",
    "                wr_signal.append(signal)\n",
    "            else:\n",
    "                buy_price.append(np.nan)\n",
    "                sell_price.append(np.nan)\n",
    "                wr_signal.append(0)\n",
    "        else:\n",
    "            buy_price.append(np.nan)\n",
    "            sell_price.append(np.nan)\n",
    "            wr_signal.append(0)\n",
    "            \n",
    "    return buy_price, sell_price, wr_signal\n",
    "            \n",
    "buy_price, sell_price, wr_signal = implement_wr_strategy(nflx['Adj Close'], nflx['wr_14'])"
   ]
  },
  {
   "cell_type": "code",
   "execution_count": 15,
   "metadata": {},
   "outputs": [
    {
     "data": {
      "image/png": "[encoded data removed]",
      "text/plain": [
       "<Figure size 1440x720 with 2 Axes>"
      ]
     },
     "metadata": {},
     "output_type": "display_data"
    }
   ],
   "source": [
    "ax1 = plt.subplot2grid((11,1), (0,0), rowspan = 5, colspan = 1)\n",
    "ax2 = plt.subplot2grid((11,1), (6,0), rowspan = 5, colspan = 1)\n",
    "ax1.plot(nflx['Adj Close'], linewidth = 2)\n",
    "ax1.plot(nflx.index, buy_price, marker = '^', markersize = 12, linewidth = 0, color = 'green', label = 'BUY SIGNAL')\n",
    "ax1.plot(nflx.index, sell_price, marker = 'v', markersize = 12, linewidth = 0, color = 'r', label = 'SELL SIGNAL')\n",
    "ax1.legend()\n",
    "ax1.set_title('NFLX TRADING SIGNALS')\n",
    "ax2.plot(nflx['wr_14'], color = 'orange', linewidth = 2)\n",
    "ax2.axhline(-20, linewidth = 1.5, linestyle = '--', color = 'grey')\n",
    "ax2.axhline(-80, linewidth = 1.5, linestyle = '--', color = 'grey')\n",
    "ax2.set_title('NFLX WILLIAMS %R 14')\n",
    "plt.show()"
   ]
  },
  {
   "cell_type": "code",
   "execution_count": null,
   "metadata": {},
   "outputs": [],
   "source": [
    "# If we only base our trading decision on Williams %R alone, it will not be a good investment. For example, between June and mid August, \n",
    "# although the stock was oversold, as indicated that the Williams is smaller than 20, the stock kept going up."
   ]
  }
 ],
 "metadata": {
  "kernelspec": {
   "display_name": "Python 3",
   "language": "python",
   "name": "python3"
  },
  "language_info": {
   "codemirror_mode": {
    "name": "ipython",
    "version": 3
   },
   "file_extension": ".py",
   "mimetype": "text/x-python",
   "name": "python",
   "nbconvert_exporter": "python",
   "pygments_lexer": "ipython3",
   "version": "3.8.5"
  }
 },
 "nbformat": 4,
 "nbformat_minor": 4
}
